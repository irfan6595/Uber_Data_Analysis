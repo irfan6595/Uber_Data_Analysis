{
 "cells": [
  {
   "cell_type": "code",
   "execution_count": 5,
   "id": "12d88548",
   "metadata": {},
   "outputs": [],
   "source": [
    "import pandas as pd\n",
    "import numpy as np\n",
    "import seaborn as sns\n",
    "import matplotlib as mpl\n",
    "import matplotlib.pyplot as plt\n",
    "import datetime\n",
    "import time\n",
    "import warnings\n",
    "warnings.filterwarnings('ignore')\n",
    "sns.set()\n",
    "pal = sns.hls_palette(10, h=.5)\n",
    "sns.set_palette(pal)\n",
    "pd.set_option('display.float_format', lambda x: '%.4f' % x)"
   ]
  },
  {
   "cell_type": "code",
   "execution_count": 2,
   "id": "496efddf",
   "metadata": {},
   "outputs": [
    {
     "name": "stdout",
     "output_type": "stream",
     "text": [
      "100% [....................................................................] 1473327561 / 1473327561"
     ]
    },
    {
     "data": {
      "text/plain": [
       "'uber_nyc_data.csv'"
      ]
     },
     "execution_count": 2,
     "metadata": {},
     "output_type": "execute_result"
    }
   ],
   "source": [
    "#Source: http://www.nyc.gov/html/tlc/html/about/trip_record_data.shtml \n",
    "#direct source: !curl -O https://s3.amazonaws.com/nyc-tlc/misc/uber_nyc_data.csv\n",
    "import wget \n",
    "url = \"https://s3.amazonaws.com/nyc-tlc/misc/uber_nyc_data.csv\"\n",
    "filename = wget.download(url)\n",
    "filename"
   ]
  },
  {
   "cell_type": "code",
   "execution_count": 3,
   "id": "f79f7a98",
   "metadata": {},
   "outputs": [],
   "source": [
    "df_uber=pd.read_csv(r\"C:\\Users\\HP\\Machine Learning Projects\\uber_nyc_data.csv\")"
   ]
  },
  {
   "cell_type": "code",
   "execution_count": 4,
   "id": "3ecc734d",
   "metadata": {},
   "outputs": [
    {
     "data": {
      "text/html": [
       "<div>\n",
       "<style scoped>\n",
       "    .dataframe tbody tr th:only-of-type {\n",
       "        vertical-align: middle;\n",
       "    }\n",
       "\n",
       "    .dataframe tbody tr th {\n",
       "        vertical-align: top;\n",
       "    }\n",
       "\n",
       "    .dataframe thead th {\n",
       "        text-align: right;\n",
       "    }\n",
       "</style>\n",
       "<table border=\"1\" class=\"dataframe\">\n",
       "  <thead>\n",
       "    <tr style=\"text-align: right;\">\n",
       "      <th></th>\n",
       "      <th>id</th>\n",
       "      <th>origin_taz</th>\n",
       "      <th>destination_taz</th>\n",
       "      <th>pickup_datetime</th>\n",
       "      <th>trip_distance</th>\n",
       "      <th>trip_duration</th>\n",
       "    </tr>\n",
       "  </thead>\n",
       "  <tbody>\n",
       "    <tr>\n",
       "      <th>0</th>\n",
       "      <td>252581</td>\n",
       "      <td>7C</td>\n",
       "      <td>6A</td>\n",
       "      <td>2014-09-01 09:00:00</td>\n",
       "      <td>4.2500</td>\n",
       "      <td>0:15:11</td>\n",
       "    </tr>\n",
       "    <tr>\n",
       "      <th>1</th>\n",
       "      <td>252582</td>\n",
       "      <td>7B</td>\n",
       "      <td>15</td>\n",
       "      <td>2014-09-01 18:00:00</td>\n",
       "      <td>10.1700</td>\n",
       "      <td>0:34:05</td>\n",
       "    </tr>\n",
       "    <tr>\n",
       "      <th>2</th>\n",
       "      <td>252583</td>\n",
       "      <td>11</td>\n",
       "      <td>2A</td>\n",
       "      <td>2014-09-01 17:00:00</td>\n",
       "      <td>4.0200</td>\n",
       "      <td>0:17:06</td>\n",
       "    </tr>\n",
       "    <tr>\n",
       "      <th>3</th>\n",
       "      <td>252584</td>\n",
       "      <td>3B</td>\n",
       "      <td>4A</td>\n",
       "      <td>2014-09-01 13:00:00</td>\n",
       "      <td>1.4600</td>\n",
       "      <td>0:06:32</td>\n",
       "    </tr>\n",
       "    <tr>\n",
       "      <th>4</th>\n",
       "      <td>252585</td>\n",
       "      <td>2A</td>\n",
       "      <td>10</td>\n",
       "      <td>2014-09-01 14:00:00</td>\n",
       "      <td>8.3100</td>\n",
       "      <td>0:26:17</td>\n",
       "    </tr>\n",
       "    <tr>\n",
       "      <th>...</th>\n",
       "      <td>...</td>\n",
       "      <td>...</td>\n",
       "      <td>...</td>\n",
       "      <td>...</td>\n",
       "      <td>...</td>\n",
       "      <td>...</td>\n",
       "    </tr>\n",
       "    <tr>\n",
       "      <th>30925733</th>\n",
       "      <td>30693431</td>\n",
       "      <td>15</td>\n",
       "      <td>15</td>\n",
       "      <td>2015-09-01 00:00:00</td>\n",
       "      <td>6.8600</td>\n",
       "      <td>0:27:37</td>\n",
       "    </tr>\n",
       "    <tr>\n",
       "      <th>30925734</th>\n",
       "      <td>30693447</td>\n",
       "      <td>5B</td>\n",
       "      <td>2A</td>\n",
       "      <td>2015-09-01 00:00:00</td>\n",
       "      <td>3.4400</td>\n",
       "      <td>0:11:07</td>\n",
       "    </tr>\n",
       "    <tr>\n",
       "      <th>30925735</th>\n",
       "      <td>30693461</td>\n",
       "      <td>4C</td>\n",
       "      <td>NaN</td>\n",
       "      <td>2015-09-01 00:00:00</td>\n",
       "      <td>6.1700</td>\n",
       "      <td>0:19:10</td>\n",
       "    </tr>\n",
       "    <tr>\n",
       "      <th>30925736</th>\n",
       "      <td>30693466</td>\n",
       "      <td>2A</td>\n",
       "      <td>5A</td>\n",
       "      <td>2015-09-01 00:00:00</td>\n",
       "      <td>1.8700</td>\n",
       "      <td>0:07:54</td>\n",
       "    </tr>\n",
       "    <tr>\n",
       "      <th>30925737</th>\n",
       "      <td>30693470</td>\n",
       "      <td>2A</td>\n",
       "      <td>2A</td>\n",
       "      <td>2015-09-01 00:00:00</td>\n",
       "      <td>0.2700</td>\n",
       "      <td>0:05:53</td>\n",
       "    </tr>\n",
       "  </tbody>\n",
       "</table>\n",
       "<p>30925738 rows × 6 columns</p>\n",
       "</div>"
      ],
      "text/plain": [
       "                id origin_taz destination_taz      pickup_datetime  \\\n",
       "0           252581         7C              6A  2014-09-01 09:00:00   \n",
       "1           252582         7B              15  2014-09-01 18:00:00   \n",
       "2           252583         11              2A  2014-09-01 17:00:00   \n",
       "3           252584         3B              4A  2014-09-01 13:00:00   \n",
       "4           252585         2A              10  2014-09-01 14:00:00   \n",
       "...            ...        ...             ...                  ...   \n",
       "30925733  30693431         15              15  2015-09-01 00:00:00   \n",
       "30925734  30693447         5B              2A  2015-09-01 00:00:00   \n",
       "30925735  30693461         4C             NaN  2015-09-01 00:00:00   \n",
       "30925736  30693466         2A              5A  2015-09-01 00:00:00   \n",
       "30925737  30693470         2A              2A  2015-09-01 00:00:00   \n",
       "\n",
       "          trip_distance trip_duration  \n",
       "0                4.2500       0:15:11  \n",
       "1               10.1700       0:34:05  \n",
       "2                4.0200       0:17:06  \n",
       "3                1.4600       0:06:32  \n",
       "4                8.3100       0:26:17  \n",
       "...                 ...           ...  \n",
       "30925733         6.8600       0:27:37  \n",
       "30925734         3.4400       0:11:07  \n",
       "30925735         6.1700       0:19:10  \n",
       "30925736         1.8700       0:07:54  \n",
       "30925737         0.2700       0:05:53  \n",
       "\n",
       "[30925738 rows x 6 columns]"
      ]
     },
     "execution_count": 4,
     "metadata": {},
     "output_type": "execute_result"
    }
   ],
   "source": [
    "df_uber"
   ]
  },
  {
   "cell_type": "code",
   "execution_count": 5,
   "id": "430287b4",
   "metadata": {},
   "outputs": [
    {
     "name": "stdout",
     "output_type": "stream",
     "text": [
      "<class 'pandas.core.frame.DataFrame'>\n",
      "RangeIndex: 30925738 entries, 0 to 30925737\n",
      "Data columns (total 6 columns):\n",
      " #   Column           Dtype  \n",
      "---  ------           -----  \n",
      " 0   id               int64  \n",
      " 1   origin_taz       object \n",
      " 2   destination_taz  object \n",
      " 3   pickup_datetime  object \n",
      " 4   trip_distance    float64\n",
      " 5   trip_duration    object \n",
      "dtypes: float64(1), int64(1), object(4)\n",
      "memory usage: 1.4+ GB\n"
     ]
    }
   ],
   "source": [
    "df_uber.info()"
   ]
  },
  {
   "cell_type": "markdown",
   "id": "bcc41e02",
   "metadata": {},
   "source": [
    "# Check for missing or possibly erroneous data."
   ]
  },
  {
   "cell_type": "code",
   "execution_count": 6,
   "id": "aac4caf1",
   "metadata": {},
   "outputs": [
    {
     "data": {
      "text/plain": [
       "id                       0\n",
       "origin_taz               0\n",
       "destination_taz    1273023\n",
       "pickup_datetime          0\n",
       "trip_distance           38\n",
       "trip_duration           38\n",
       "dtype: int64"
      ]
     },
     "execution_count": 6,
     "metadata": {},
     "output_type": "execute_result"
    }
   ],
   "source": [
    "df_uber.isnull().sum()"
   ]
  },
  {
   "cell_type": "code",
   "execution_count": 7,
   "id": "e4ddf8ac",
   "metadata": {},
   "outputs": [
    {
     "data": {
      "text/plain": [
       "0"
      ]
     },
     "execution_count": 7,
     "metadata": {},
     "output_type": "execute_result"
    }
   ],
   "source": [
    "#To check for the duplicated rows\n",
    "len(df_uber[df_uber.duplicated() == True])"
   ]
  },
  {
   "cell_type": "code",
   "execution_count": 8,
   "id": "151f0c93",
   "metadata": {},
   "outputs": [
    {
     "data": {
      "text/plain": [
       "array(['7C', '7B', '11', '3B', '2A', '5B', '10', '2B', '9', '6B', '15',\n",
       "       '4C', '5A', '8', '14', '4A', '7A', '1', '16', '3A', '2C', '6A',\n",
       "       '12', '13', '3C', '4B', '5C', '17'], dtype=object)"
      ]
     },
     "execution_count": 8,
     "metadata": {},
     "output_type": "execute_result"
    }
   ],
   "source": [
    "arr1= df_uber.origin_taz.unique()\n",
    "arr1"
   ]
  },
  {
   "cell_type": "code",
   "execution_count": 9,
   "id": "772a729c",
   "metadata": {},
   "outputs": [
    {
     "data": {
      "text/plain": [
       "array(['6A', '15', '2A', '4A', '10', '4C', '7A', '3C', '5B', '14', '8',\n",
       "       nan, '7C', '12', '2C', '1', '6B', '5C', '9', '3A', '2B', '11',\n",
       "       '7B', '5A', '13', '4B', '18', '16', '3B', '17'], dtype=object)"
      ]
     },
     "execution_count": 9,
     "metadata": {},
     "output_type": "execute_result"
    }
   ],
   "source": [
    "arr2= df_uber.destination_taz.unique()\n",
    "arr2"
   ]
  },
  {
   "cell_type": "code",
   "execution_count": 10,
   "id": "69b06f8f",
   "metadata": {},
   "outputs": [
    {
     "data": {
      "text/plain": [
       "{'18', nan}"
      ]
     },
     "execution_count": 10,
     "metadata": {},
     "output_type": "execute_result"
    }
   ],
   "source": [
    "set(arr2)-set(arr1)"
   ]
  },
  {
   "cell_type": "code",
   "execution_count": 11,
   "id": "bf6b9ba5",
   "metadata": {},
   "outputs": [
    {
     "data": {
      "text/html": [
       "<div>\n",
       "<style scoped>\n",
       "    .dataframe tbody tr th:only-of-type {\n",
       "        vertical-align: middle;\n",
       "    }\n",
       "\n",
       "    .dataframe tbody tr th {\n",
       "        vertical-align: top;\n",
       "    }\n",
       "\n",
       "    .dataframe thead th {\n",
       "        text-align: right;\n",
       "    }\n",
       "</style>\n",
       "<table border=\"1\" class=\"dataframe\">\n",
       "  <thead>\n",
       "    <tr style=\"text-align: right;\">\n",
       "      <th></th>\n",
       "      <th>id</th>\n",
       "      <th>origin_taz</th>\n",
       "      <th>destination_taz</th>\n",
       "      <th>pickup_datetime</th>\n",
       "      <th>trip_distance</th>\n",
       "      <th>trip_duration</th>\n",
       "    </tr>\n",
       "  </thead>\n",
       "  <tbody>\n",
       "    <tr>\n",
       "      <th>15</th>\n",
       "      <td>252596</td>\n",
       "      <td>6B</td>\n",
       "      <td>NaN</td>\n",
       "      <td>2014-09-01 17:00:00</td>\n",
       "      <td>11.6700</td>\n",
       "      <td>0:23:45</td>\n",
       "    </tr>\n",
       "    <tr>\n",
       "      <th>32</th>\n",
       "      <td>252613</td>\n",
       "      <td>9</td>\n",
       "      <td>NaN</td>\n",
       "      <td>2014-09-01 16:00:00</td>\n",
       "      <td>80.6900</td>\n",
       "      <td>1:59:37</td>\n",
       "    </tr>\n",
       "    <tr>\n",
       "      <th>63</th>\n",
       "      <td>252644</td>\n",
       "      <td>9</td>\n",
       "      <td>NaN</td>\n",
       "      <td>2014-09-01 18:00:00</td>\n",
       "      <td>23.0700</td>\n",
       "      <td>1:03:37</td>\n",
       "    </tr>\n",
       "    <tr>\n",
       "      <th>141</th>\n",
       "      <td>252722</td>\n",
       "      <td>9</td>\n",
       "      <td>NaN</td>\n",
       "      <td>2014-09-01 10:00:00</td>\n",
       "      <td>21.7300</td>\n",
       "      <td>0:41:12</td>\n",
       "    </tr>\n",
       "    <tr>\n",
       "      <th>148</th>\n",
       "      <td>252729</td>\n",
       "      <td>4B</td>\n",
       "      <td>NaN</td>\n",
       "      <td>2014-09-01 10:00:00</td>\n",
       "      <td>4.6200</td>\n",
       "      <td>0:14:55</td>\n",
       "    </tr>\n",
       "  </tbody>\n",
       "</table>\n",
       "</div>"
      ],
      "text/plain": [
       "         id origin_taz destination_taz      pickup_datetime  trip_distance  \\\n",
       "15   252596         6B             NaN  2014-09-01 17:00:00        11.6700   \n",
       "32   252613          9             NaN  2014-09-01 16:00:00        80.6900   \n",
       "63   252644          9             NaN  2014-09-01 18:00:00        23.0700   \n",
       "141  252722          9             NaN  2014-09-01 10:00:00        21.7300   \n",
       "148  252729         4B             NaN  2014-09-01 10:00:00         4.6200   \n",
       "\n",
       "    trip_duration  \n",
       "15        0:23:45  \n",
       "32        1:59:37  \n",
       "63        1:03:37  \n",
       "141       0:41:12  \n",
       "148       0:14:55  "
      ]
     },
     "execution_count": 11,
     "metadata": {},
     "output_type": "execute_result"
    }
   ],
   "source": [
    "df_uber[df_uber.destination_taz.isnull()].head()"
   ]
  },
  {
   "cell_type": "code",
   "execution_count": 12,
   "id": "b28d3709",
   "metadata": {},
   "outputs": [
    {
     "data": {
      "text/html": [
       "<div>\n",
       "<style scoped>\n",
       "    .dataframe tbody tr th:only-of-type {\n",
       "        vertical-align: middle;\n",
       "    }\n",
       "\n",
       "    .dataframe tbody tr th {\n",
       "        vertical-align: top;\n",
       "    }\n",
       "\n",
       "    .dataframe thead th {\n",
       "        text-align: right;\n",
       "    }\n",
       "</style>\n",
       "<table border=\"1\" class=\"dataframe\">\n",
       "  <thead>\n",
       "    <tr style=\"text-align: right;\">\n",
       "      <th></th>\n",
       "      <th>id</th>\n",
       "      <th>origin_taz</th>\n",
       "      <th>destination_taz</th>\n",
       "      <th>pickup_datetime</th>\n",
       "      <th>trip_distance</th>\n",
       "      <th>trip_duration</th>\n",
       "    </tr>\n",
       "  </thead>\n",
       "  <tbody>\n",
       "    <tr>\n",
       "      <th>15155317</th>\n",
       "      <td>39535</td>\n",
       "      <td>2A</td>\n",
       "      <td>11</td>\n",
       "      <td>2015-04-25 12:00:00</td>\n",
       "      <td>NaN</td>\n",
       "      <td>NaN</td>\n",
       "    </tr>\n",
       "    <tr>\n",
       "      <th>15245057</th>\n",
       "      <td>1009076</td>\n",
       "      <td>2A</td>\n",
       "      <td>2A</td>\n",
       "      <td>2015-04-26 01:00:00</td>\n",
       "      <td>NaN</td>\n",
       "      <td>NaN</td>\n",
       "    </tr>\n",
       "    <tr>\n",
       "      <th>16519652</th>\n",
       "      <td>15028665</td>\n",
       "      <td>2A</td>\n",
       "      <td>7C</td>\n",
       "      <td>2015-04-29 21:00:00</td>\n",
       "      <td>NaN</td>\n",
       "      <td>NaN</td>\n",
       "    </tr>\n",
       "    <tr>\n",
       "      <th>17148253</th>\n",
       "      <td>22250173</td>\n",
       "      <td>2A</td>\n",
       "      <td>2A</td>\n",
       "      <td>2015-04-12 02:00:00</td>\n",
       "      <td>NaN</td>\n",
       "      <td>NaN</td>\n",
       "    </tr>\n",
       "    <tr>\n",
       "      <th>17297563</th>\n",
       "      <td>23716998</td>\n",
       "      <td>2C</td>\n",
       "      <td>11</td>\n",
       "      <td>2015-04-25 13:00:00</td>\n",
       "      <td>NaN</td>\n",
       "      <td>NaN</td>\n",
       "    </tr>\n",
       "  </tbody>\n",
       "</table>\n",
       "</div>"
      ],
      "text/plain": [
       "                id origin_taz destination_taz      pickup_datetime  \\\n",
       "15155317     39535         2A              11  2015-04-25 12:00:00   \n",
       "15245057   1009076         2A              2A  2015-04-26 01:00:00   \n",
       "16519652  15028665         2A              7C  2015-04-29 21:00:00   \n",
       "17148253  22250173         2A              2A  2015-04-12 02:00:00   \n",
       "17297563  23716998         2C              11  2015-04-25 13:00:00   \n",
       "\n",
       "          trip_distance trip_duration  \n",
       "15155317            NaN           NaN  \n",
       "15245057            NaN           NaN  \n",
       "16519652            NaN           NaN  \n",
       "17148253            NaN           NaN  \n",
       "17297563            NaN           NaN  "
      ]
     },
     "execution_count": 12,
     "metadata": {},
     "output_type": "execute_result"
    }
   ],
   "source": [
    "df38= df_uber[df_uber.trip_distance.isnull() & df_uber.trip_duration.isnull()]\n",
    "df38.head()"
   ]
  },
  {
   "cell_type": "code",
   "execution_count": 13,
   "id": "75d39f76",
   "metadata": {},
   "outputs": [
    {
     "data": {
      "text/plain": [
       "0"
      ]
     },
     "execution_count": 13,
     "metadata": {},
     "output_type": "execute_result"
    }
   ],
   "source": [
    "len(df_uber[(df_uber.trip_duration.isnull() == False) & (df_uber.trip_distance.isnull())])"
   ]
  },
  {
   "cell_type": "markdown",
   "id": "ec5a5880",
   "metadata": {},
   "source": [
    "# Parse the pickup_datetime column to datetime type and create related features."
   ]
  },
  {
   "cell_type": "code",
   "execution_count": 14,
   "id": "2d8ff8b5",
   "metadata": {},
   "outputs": [
    {
     "data": {
      "text/plain": [
       "0"
      ]
     },
     "execution_count": 14,
     "metadata": {},
     "output_type": "execute_result"
    }
   ],
   "source": [
    "len(df_uber[df_uber.pickup_datetime.apply(lambda x : x[-5:]=='00:00')==False])"
   ]
  },
  {
   "cell_type": "code",
   "execution_count": 15,
   "id": "e6561c4a",
   "metadata": {},
   "outputs": [],
   "source": [
    "def dateParser(s):\n",
    "    return datetime.datetime(int(s[0:4]), int(s[5:7]), int(s[8:10]), int(s[11:13]))"
   ]
  },
  {
   "cell_type": "code",
   "execution_count": 16,
   "id": "cb6be7b0",
   "metadata": {},
   "outputs": [
    {
     "data": {
      "text/plain": [
       "47.82439398765564"
      ]
     },
     "execution_count": 16,
     "metadata": {},
     "output_type": "execute_result"
    }
   ],
   "source": [
    "t0 = time.time()\n",
    "df_uber['pu_date_hour'] = df_uber.pickup_datetime.apply(dateParser)\n",
    "time.time() - t0"
   ]
  },
  {
   "cell_type": "code",
   "execution_count": 17,
   "id": "f79c6933",
   "metadata": {},
   "outputs": [
    {
     "name": "stdout",
     "output_type": "stream",
     "text": [
      "2014-09-01 00:00:00 2015-09-01 00:00:00 365 days 00:00:00\n"
     ]
    }
   ],
   "source": [
    "beginning = df_uber.pu_date_hour.min()\n",
    "end = df_uber.pu_date_hour.max()\n",
    "print (beginning, end, end - beginning)"
   ]
  },
  {
   "cell_type": "code",
   "execution_count": 18,
   "id": "3206889b",
   "metadata": {},
   "outputs": [],
   "source": [
    "df_uber = df_uber.drop('pickup_datetime', axis=1)"
   ]
  },
  {
   "cell_type": "markdown",
   "id": "e3a5a821",
   "metadata": {},
   "source": [
    "# Get the federal holidays for the period."
   ]
  },
  {
   "cell_type": "code",
   "execution_count": 19,
   "id": "acc28d90",
   "metadata": {},
   "outputs": [
    {
     "data": {
      "text/plain": [
       "2014-09-01                     Labor Day\n",
       "2014-10-13                  Columbus Day\n",
       "2014-11-11                  Veterans Day\n",
       "2014-11-27                  Thanksgiving\n",
       "2014-12-25                     Christmas\n",
       "2015-01-01                 New Years Day\n",
       "2015-01-19    Martin Luther King Jr. Day\n",
       "2015-02-16                Presidents Day\n",
       "2015-05-25                  Memorial Day\n",
       "2015-07-03                      July 4th\n",
       "dtype: object"
      ]
     },
     "execution_count": 19,
     "metadata": {},
     "output_type": "execute_result"
    }
   ],
   "source": [
    "from pandas.tseries.holiday import USFederalHolidayCalendar\n",
    "holidays= USFederalHolidayCalendar().holidays(beginning,end,return_name=True)\n",
    "holidays"
   ]
  },
  {
   "cell_type": "code",
   "execution_count": 20,
   "id": "fe39e2e6",
   "metadata": {},
   "outputs": [
    {
     "data": {
      "text/plain": [
       "Index(['Mon', 'Mon', 'Tue', 'Thu', 'Thu', 'Thu', 'Mon', 'Mon', 'Mon', 'Fri'], dtype='object')"
      ]
     },
     "execution_count": 20,
     "metadata": {},
     "output_type": "execute_result"
    }
   ],
   "source": [
    "holidays.index.map(lambda x: x.strftime('%a'))"
   ]
  },
  {
   "cell_type": "code",
   "execution_count": 21,
   "id": "ce550dd7",
   "metadata": {},
   "outputs": [
    {
     "data": {
      "text/plain": [
       "2014-08-31       Day BeforeLabor Day\n",
       "2014-09-01                 Labor Day\n",
       "2014-09-02        Day AfterLabor Day\n",
       "2014-10-12    Day BeforeColumbus Day\n",
       "2014-10-13              Columbus Day\n",
       "2014-10-14     Day AfterColumbus Day\n",
       "2014-11-10    Day BeforeVeterans Day\n",
       "2014-11-11              Veterans Day\n",
       "2014-11-12     Day AfterVeterans Day\n",
       "2014-11-26    Day BeforeThanksgiving\n",
       "dtype: object"
      ]
     },
     "execution_count": 21,
     "metadata": {},
     "output_type": "execute_result"
    }
   ],
   "source": [
    "holidays_all= pd.concat([holidays, \"Day After\" + holidays.shift(1,'D'), \"Day Before\" + holidays.shift(-1,'D')])\n",
    "holidays_all= holidays_all.sort_index()\n",
    "holidays_all.head(10)"
   ]
  },
  {
   "cell_type": "markdown",
   "id": "ff36ab1b",
   "metadata": {},
   "source": [
    "# Create other date and time features."
   ]
  },
  {
   "cell_type": "code",
   "execution_count": 22,
   "id": "84813618",
   "metadata": {},
   "outputs": [
    {
     "data": {
      "text/plain": [
       "61.84893488883972"
      ]
     },
     "execution_count": 22,
     "metadata": {},
     "output_type": "execute_result"
    }
   ],
   "source": [
    "t0 = time.time()\n",
    "df_uber['pu_date'] = pd.Series(map(lambda x: x.astype('datetime64[D]'), df_uber['pu_date_hour'].values))\n",
    "time.time() - t0"
   ]
  },
  {
   "cell_type": "code",
   "execution_count": 23,
   "id": "27fe6680",
   "metadata": {},
   "outputs": [],
   "source": [
    "df_uber[\"year\"]=df_uber[\"pu_date_hour\"].dt.year\n",
    "df_uber[\"month\"]=df_uber[\"pu_date_hour\"].dt.month"
   ]
  },
  {
   "cell_type": "code",
   "execution_count": 24,
   "id": "027b5c01",
   "metadata": {},
   "outputs": [
    {
     "data": {
      "text/plain": [
       "1.4012465476989746"
      ]
     },
     "execution_count": 24,
     "metadata": {},
     "output_type": "execute_result"
    }
   ],
   "source": [
    "t0=time.time()\n",
    "df_uber[\"day\"]=df_uber[\"pu_date_hour\"].dt.day\n",
    "time.time()-t0"
   ]
  },
  {
   "cell_type": "code",
   "execution_count": 25,
   "id": "50ed28bf",
   "metadata": {},
   "outputs": [
    {
     "data": {
      "text/plain": [
       "1.245661973953247"
      ]
     },
     "execution_count": 25,
     "metadata": {},
     "output_type": "execute_result"
    }
   ],
   "source": [
    "t0=time.time()\n",
    "df_uber[\"hour\"]=df_uber[\"pu_date_hour\"].dt.hour\n",
    "time.time()-t0"
   ]
  },
  {
   "cell_type": "code",
   "execution_count": 26,
   "id": "54ae6667",
   "metadata": {},
   "outputs": [
    {
     "data": {
      "text/plain": [
       "1.5101587772369385"
      ]
     },
     "execution_count": 26,
     "metadata": {},
     "output_type": "execute_result"
    }
   ],
   "source": [
    "t0=time.time()\n",
    "df_uber[\"weekday\"]=df_uber[\"pu_date_hour\"].dt.dayofweek\n",
    "time.time()-t0"
   ]
  },
  {
   "cell_type": "code",
   "execution_count": 27,
   "id": "769552f1",
   "metadata": {},
   "outputs": [
    {
     "data": {
      "text/plain": [
       "5    5142832\n",
       "4    4805002\n",
       "3    4625511\n",
       "6    4331195\n",
       "2    4301537\n",
       "1    4010434\n",
       "0    3709227\n",
       "Name: weekday, dtype: int64"
      ]
     },
     "execution_count": 27,
     "metadata": {},
     "output_type": "execute_result"
    }
   ],
   "source": [
    "df_uber.weekday.value_counts()"
   ]
  },
  {
   "cell_type": "code",
   "execution_count": 28,
   "id": "a026ceb6",
   "metadata": {},
   "outputs": [
    {
     "data": {
      "text/html": [
       "<div>\n",
       "<style scoped>\n",
       "    .dataframe tbody tr th:only-of-type {\n",
       "        vertical-align: middle;\n",
       "    }\n",
       "\n",
       "    .dataframe tbody tr th {\n",
       "        vertical-align: top;\n",
       "    }\n",
       "\n",
       "    .dataframe thead th {\n",
       "        text-align: right;\n",
       "    }\n",
       "</style>\n",
       "<table border=\"1\" class=\"dataframe\">\n",
       "  <thead>\n",
       "    <tr style=\"text-align: right;\">\n",
       "      <th></th>\n",
       "      <th>id</th>\n",
       "      <th>origin_taz</th>\n",
       "      <th>destination_taz</th>\n",
       "      <th>trip_distance</th>\n",
       "      <th>trip_duration</th>\n",
       "      <th>pu_date_hour</th>\n",
       "      <th>pu_date</th>\n",
       "      <th>year</th>\n",
       "      <th>month</th>\n",
       "      <th>day</th>\n",
       "      <th>hour</th>\n",
       "      <th>weekday</th>\n",
       "    </tr>\n",
       "  </thead>\n",
       "  <tbody>\n",
       "    <tr>\n",
       "      <th>0</th>\n",
       "      <td>252581</td>\n",
       "      <td>7C</td>\n",
       "      <td>6A</td>\n",
       "      <td>4.2500</td>\n",
       "      <td>0:15:11</td>\n",
       "      <td>2014-09-01 09:00:00</td>\n",
       "      <td>2014-09-01</td>\n",
       "      <td>2014</td>\n",
       "      <td>9</td>\n",
       "      <td>1</td>\n",
       "      <td>9</td>\n",
       "      <td>0</td>\n",
       "    </tr>\n",
       "    <tr>\n",
       "      <th>1</th>\n",
       "      <td>252582</td>\n",
       "      <td>7B</td>\n",
       "      <td>15</td>\n",
       "      <td>10.1700</td>\n",
       "      <td>0:34:05</td>\n",
       "      <td>2014-09-01 18:00:00</td>\n",
       "      <td>2014-09-01</td>\n",
       "      <td>2014</td>\n",
       "      <td>9</td>\n",
       "      <td>1</td>\n",
       "      <td>18</td>\n",
       "      <td>0</td>\n",
       "    </tr>\n",
       "    <tr>\n",
       "      <th>2</th>\n",
       "      <td>252583</td>\n",
       "      <td>11</td>\n",
       "      <td>2A</td>\n",
       "      <td>4.0200</td>\n",
       "      <td>0:17:06</td>\n",
       "      <td>2014-09-01 17:00:00</td>\n",
       "      <td>2014-09-01</td>\n",
       "      <td>2014</td>\n",
       "      <td>9</td>\n",
       "      <td>1</td>\n",
       "      <td>17</td>\n",
       "      <td>0</td>\n",
       "    </tr>\n",
       "    <tr>\n",
       "      <th>3</th>\n",
       "      <td>252584</td>\n",
       "      <td>3B</td>\n",
       "      <td>4A</td>\n",
       "      <td>1.4600</td>\n",
       "      <td>0:06:32</td>\n",
       "      <td>2014-09-01 13:00:00</td>\n",
       "      <td>2014-09-01</td>\n",
       "      <td>2014</td>\n",
       "      <td>9</td>\n",
       "      <td>1</td>\n",
       "      <td>13</td>\n",
       "      <td>0</td>\n",
       "    </tr>\n",
       "    <tr>\n",
       "      <th>4</th>\n",
       "      <td>252585</td>\n",
       "      <td>2A</td>\n",
       "      <td>10</td>\n",
       "      <td>8.3100</td>\n",
       "      <td>0:26:17</td>\n",
       "      <td>2014-09-01 14:00:00</td>\n",
       "      <td>2014-09-01</td>\n",
       "      <td>2014</td>\n",
       "      <td>9</td>\n",
       "      <td>1</td>\n",
       "      <td>14</td>\n",
       "      <td>0</td>\n",
       "    </tr>\n",
       "  </tbody>\n",
       "</table>\n",
       "</div>"
      ],
      "text/plain": [
       "       id origin_taz destination_taz  trip_distance trip_duration  \\\n",
       "0  252581         7C              6A         4.2500       0:15:11   \n",
       "1  252582         7B              15        10.1700       0:34:05   \n",
       "2  252583         11              2A         4.0200       0:17:06   \n",
       "3  252584         3B              4A         1.4600       0:06:32   \n",
       "4  252585         2A              10         8.3100       0:26:17   \n",
       "\n",
       "         pu_date_hour    pu_date  year  month  day  hour  weekday  \n",
       "0 2014-09-01 09:00:00 2014-09-01  2014      9    1     9        0  \n",
       "1 2014-09-01 18:00:00 2014-09-01  2014      9    1    18        0  \n",
       "2 2014-09-01 17:00:00 2014-09-01  2014      9    1    17        0  \n",
       "3 2014-09-01 13:00:00 2014-09-01  2014      9    1    13        0  \n",
       "4 2014-09-01 14:00:00 2014-09-01  2014      9    1    14        0  "
      ]
     },
     "execution_count": 28,
     "metadata": {},
     "output_type": "execute_result"
    }
   ],
   "source": [
    "df_uber.head()"
   ]
  },
  {
   "cell_type": "code",
   "execution_count": 29,
   "id": "5e0d06b6",
   "metadata": {},
   "outputs": [
    {
     "name": "stdout",
     "output_type": "stream",
     "text": [
      "<class 'pandas.core.frame.DataFrame'>\n",
      "RangeIndex: 30925738 entries, 0 to 30925737\n",
      "Data columns (total 12 columns):\n",
      " #   Column           Dtype         \n",
      "---  ------           -----         \n",
      " 0   id               int64         \n",
      " 1   origin_taz       object        \n",
      " 2   destination_taz  object        \n",
      " 3   trip_distance    float64       \n",
      " 4   trip_duration    object        \n",
      " 5   pu_date_hour     datetime64[ns]\n",
      " 6   pu_date          datetime64[ns]\n",
      " 7   year             int64         \n",
      " 8   month            int64         \n",
      " 9   day              int64         \n",
      " 10  hour             int64         \n",
      " 11  weekday          int64         \n",
      "dtypes: datetime64[ns](2), float64(1), int64(6), object(3)\n",
      "memory usage: 2.8+ GB\n"
     ]
    }
   ],
   "source": [
    "df_uber.info()"
   ]
  },
  {
   "cell_type": "markdown",
   "id": "f89b4860",
   "metadata": {},
   "source": [
    "# Transform trip duration data"
   ]
  },
  {
   "cell_type": "code",
   "execution_count": 30,
   "id": "6122a836",
   "metadata": {},
   "outputs": [],
   "source": [
    "unique_dur=df_uber[df_uber.trip_duration.isnull()==False].trip_duration.unique()"
   ]
  },
  {
   "cell_type": "code",
   "execution_count": 31,
   "id": "069bad57",
   "metadata": {},
   "outputs": [
    {
     "name": "stdout",
     "output_type": "stream",
     "text": [
      "386\n"
     ]
    }
   ],
   "source": [
    "long_duration=[]\n",
    "for item in unique_dur:\n",
    "    if len(item) !=7:\n",
    "        long_duration.append(item)\n",
    "print(len(long_duration))"
   ]
  },
  {
   "cell_type": "code",
   "execution_count": 32,
   "id": "8120db16",
   "metadata": {},
   "outputs": [
    {
     "name": "stdout",
     "output_type": "stream",
     "text": [
      "172032:14:50\n",
      "172032:39:03\n",
      "136:25:12\n",
      "172032:17:45\n",
      "172032:19:27\n",
      "119:53:35\n",
      "120:49:05\n"
     ]
    }
   ],
   "source": [
    "for item in long_duration:\n",
    "    if len(item)>8:\n",
    "        print(item)"
   ]
  },
  {
   "cell_type": "code",
   "execution_count": 33,
   "id": "f0e6d328",
   "metadata": {},
   "outputs": [],
   "source": [
    "def duration_to_minutes(s):\n",
    "    \"\"\"\n",
    "    Function that takes a string with the hh:mm:ss format and\n",
    "    returns the integer equivalent of the total time in minutes, \n",
    "    or zero for missing values in a Pandas dataframe.\n",
    "    \"\"\"\n",
    "    if pd.isnull(s):\n",
    "        val = 0 #note: this fills with 0 the 38 instances with null (missing) values\n",
    "    else:\n",
    "        hms = s.split(':')\n",
    "        val = int(hms[0])*60 + int(hms[1]) + int(hms[2])/60.0\n",
    "    return val"
   ]
  },
  {
   "cell_type": "code",
   "execution_count": 34,
   "id": "f991bdbb",
   "metadata": {},
   "outputs": [
    {
     "data": {
      "text/plain": [
       "52.169912815093994"
      ]
     },
     "execution_count": 34,
     "metadata": {},
     "output_type": "execute_result"
    }
   ],
   "source": [
    "t0 = time.time()\n",
    "df_uber['duration_min'] = df_uber.trip_duration.apply(duration_to_minutes) \n",
    "time.time() - t0                                                  "
   ]
  },
  {
   "cell_type": "code",
   "execution_count": 35,
   "id": "3854ee7c",
   "metadata": {},
   "outputs": [
    {
     "data": {
      "text/html": [
       "<div>\n",
       "<style scoped>\n",
       "    .dataframe tbody tr th:only-of-type {\n",
       "        vertical-align: middle;\n",
       "    }\n",
       "\n",
       "    .dataframe tbody tr th {\n",
       "        vertical-align: top;\n",
       "    }\n",
       "\n",
       "    .dataframe thead th {\n",
       "        text-align: right;\n",
       "    }\n",
       "</style>\n",
       "<table border=\"1\" class=\"dataframe\">\n",
       "  <thead>\n",
       "    <tr style=\"text-align: right;\">\n",
       "      <th></th>\n",
       "      <th>id</th>\n",
       "      <th>origin_taz</th>\n",
       "      <th>destination_taz</th>\n",
       "      <th>trip_distance</th>\n",
       "      <th>trip_duration</th>\n",
       "      <th>pu_date_hour</th>\n",
       "      <th>pu_date</th>\n",
       "      <th>year</th>\n",
       "      <th>month</th>\n",
       "      <th>day</th>\n",
       "      <th>hour</th>\n",
       "      <th>weekday</th>\n",
       "      <th>duration_min</th>\n",
       "    </tr>\n",
       "  </thead>\n",
       "  <tbody>\n",
       "    <tr>\n",
       "      <th>0</th>\n",
       "      <td>252581</td>\n",
       "      <td>7C</td>\n",
       "      <td>6A</td>\n",
       "      <td>4.2500</td>\n",
       "      <td>0:15:11</td>\n",
       "      <td>2014-09-01 09:00:00</td>\n",
       "      <td>2014-09-01</td>\n",
       "      <td>2014</td>\n",
       "      <td>9</td>\n",
       "      <td>1</td>\n",
       "      <td>9</td>\n",
       "      <td>0</td>\n",
       "      <td>15.1833</td>\n",
       "    </tr>\n",
       "    <tr>\n",
       "      <th>1</th>\n",
       "      <td>252582</td>\n",
       "      <td>7B</td>\n",
       "      <td>15</td>\n",
       "      <td>10.1700</td>\n",
       "      <td>0:34:05</td>\n",
       "      <td>2014-09-01 18:00:00</td>\n",
       "      <td>2014-09-01</td>\n",
       "      <td>2014</td>\n",
       "      <td>9</td>\n",
       "      <td>1</td>\n",
       "      <td>18</td>\n",
       "      <td>0</td>\n",
       "      <td>34.0833</td>\n",
       "    </tr>\n",
       "    <tr>\n",
       "      <th>2</th>\n",
       "      <td>252583</td>\n",
       "      <td>11</td>\n",
       "      <td>2A</td>\n",
       "      <td>4.0200</td>\n",
       "      <td>0:17:06</td>\n",
       "      <td>2014-09-01 17:00:00</td>\n",
       "      <td>2014-09-01</td>\n",
       "      <td>2014</td>\n",
       "      <td>9</td>\n",
       "      <td>1</td>\n",
       "      <td>17</td>\n",
       "      <td>0</td>\n",
       "      <td>17.1000</td>\n",
       "    </tr>\n",
       "    <tr>\n",
       "      <th>3</th>\n",
       "      <td>252584</td>\n",
       "      <td>3B</td>\n",
       "      <td>4A</td>\n",
       "      <td>1.4600</td>\n",
       "      <td>0:06:32</td>\n",
       "      <td>2014-09-01 13:00:00</td>\n",
       "      <td>2014-09-01</td>\n",
       "      <td>2014</td>\n",
       "      <td>9</td>\n",
       "      <td>1</td>\n",
       "      <td>13</td>\n",
       "      <td>0</td>\n",
       "      <td>6.5333</td>\n",
       "    </tr>\n",
       "    <tr>\n",
       "      <th>4</th>\n",
       "      <td>252585</td>\n",
       "      <td>2A</td>\n",
       "      <td>10</td>\n",
       "      <td>8.3100</td>\n",
       "      <td>0:26:17</td>\n",
       "      <td>2014-09-01 14:00:00</td>\n",
       "      <td>2014-09-01</td>\n",
       "      <td>2014</td>\n",
       "      <td>9</td>\n",
       "      <td>1</td>\n",
       "      <td>14</td>\n",
       "      <td>0</td>\n",
       "      <td>26.2833</td>\n",
       "    </tr>\n",
       "  </tbody>\n",
       "</table>\n",
       "</div>"
      ],
      "text/plain": [
       "       id origin_taz destination_taz  trip_distance trip_duration  \\\n",
       "0  252581         7C              6A         4.2500       0:15:11   \n",
       "1  252582         7B              15        10.1700       0:34:05   \n",
       "2  252583         11              2A         4.0200       0:17:06   \n",
       "3  252584         3B              4A         1.4600       0:06:32   \n",
       "4  252585         2A              10         8.3100       0:26:17   \n",
       "\n",
       "         pu_date_hour    pu_date  year  month  day  hour  weekday  \\\n",
       "0 2014-09-01 09:00:00 2014-09-01  2014      9    1     9        0   \n",
       "1 2014-09-01 18:00:00 2014-09-01  2014      9    1    18        0   \n",
       "2 2014-09-01 17:00:00 2014-09-01  2014      9    1    17        0   \n",
       "3 2014-09-01 13:00:00 2014-09-01  2014      9    1    13        0   \n",
       "4 2014-09-01 14:00:00 2014-09-01  2014      9    1    14        0   \n",
       "\n",
       "   duration_min  \n",
       "0       15.1833  \n",
       "1       34.0833  \n",
       "2       17.1000  \n",
       "3        6.5333  \n",
       "4       26.2833  "
      ]
     },
     "execution_count": 35,
     "metadata": {},
     "output_type": "execute_result"
    }
   ],
   "source": [
    "df_uber.head()"
   ]
  },
  {
   "cell_type": "markdown",
   "id": "c395f710",
   "metadata": {},
   "source": [
    "# Replace missing values with mean distance and duration for respective origin-destination."
   ]
  },
  {
   "cell_type": "code",
   "execution_count": 36,
   "id": "168cf414",
   "metadata": {},
   "outputs": [],
   "source": [
    "df_DistDur = df_uber.groupby(['origin_taz', 'destination_taz'])[['trip_distance', 'duration_min']].mean()"
   ]
  },
  {
   "cell_type": "code",
   "execution_count": 37,
   "id": "d0edcf1c",
   "metadata": {},
   "outputs": [
    {
     "data": {
      "text/html": [
       "<div>\n",
       "<style scoped>\n",
       "    .dataframe tbody tr th:only-of-type {\n",
       "        vertical-align: middle;\n",
       "    }\n",
       "\n",
       "    .dataframe tbody tr th {\n",
       "        vertical-align: top;\n",
       "    }\n",
       "\n",
       "    .dataframe thead th {\n",
       "        text-align: right;\n",
       "    }\n",
       "</style>\n",
       "<table border=\"1\" class=\"dataframe\">\n",
       "  <thead>\n",
       "    <tr style=\"text-align: right;\">\n",
       "      <th></th>\n",
       "      <th></th>\n",
       "      <th>trip_distance</th>\n",
       "      <th>duration_min</th>\n",
       "    </tr>\n",
       "    <tr>\n",
       "      <th>origin_taz</th>\n",
       "      <th>destination_taz</th>\n",
       "      <th></th>\n",
       "      <th></th>\n",
       "    </tr>\n",
       "  </thead>\n",
       "  <tbody>\n",
       "    <tr>\n",
       "      <th rowspan=\"5\" valign=\"top\">1</th>\n",
       "      <th>1</th>\n",
       "      <td>1.4219</td>\n",
       "      <td>10.5655</td>\n",
       "    </tr>\n",
       "    <tr>\n",
       "      <th>10</th>\n",
       "      <td>3.6508</td>\n",
       "      <td>17.9776</td>\n",
       "    </tr>\n",
       "    <tr>\n",
       "      <th>11</th>\n",
       "      <td>5.0937</td>\n",
       "      <td>22.4899</td>\n",
       "    </tr>\n",
       "    <tr>\n",
       "      <th>12</th>\n",
       "      <td>8.8878</td>\n",
       "      <td>29.1024</td>\n",
       "    </tr>\n",
       "    <tr>\n",
       "      <th>13</th>\n",
       "      <td>11.5831</td>\n",
       "      <td>32.1568</td>\n",
       "    </tr>\n",
       "  </tbody>\n",
       "</table>\n",
       "</div>"
      ],
      "text/plain": [
       "                            trip_distance  duration_min\n",
       "origin_taz destination_taz                             \n",
       "1          1                       1.4219       10.5655\n",
       "           10                      3.6508       17.9776\n",
       "           11                      5.0937       22.4899\n",
       "           12                      8.8878       29.1024\n",
       "           13                     11.5831       32.1568"
      ]
     },
     "execution_count": 37,
     "metadata": {},
     "output_type": "execute_result"
    }
   ],
   "source": [
    "df_DistDur.head()"
   ]
  },
  {
   "cell_type": "code",
   "execution_count": 38,
   "id": "329d0b98",
   "metadata": {},
   "outputs": [],
   "source": [
    "for i in df38.index:\n",
    "    orig=df_uber.loc[i,'origin_taz']\n",
    "    dest=df_uber.loc[i,'destination_taz']\n",
    "    df_uber.loc[i, 'trip_distance'] = df_DistDur.loc[orig, dest].trip_distance\n",
    "    df_uber.loc[i, 'duration_min'] = df_DistDur.loc[orig, dest].duration_min"
   ]
  },
  {
   "cell_type": "markdown",
   "id": "9920302a",
   "metadata": {},
   "source": [
    "# Calculate average speed for each trip."
   ]
  },
  {
   "cell_type": "code",
   "execution_count": 39,
   "id": "0ece2196",
   "metadata": {},
   "outputs": [],
   "source": [
    "df_uber['trip_mpg_avg']=df_uber.trip_distance/(df_uber.duration_min/60.0)"
   ]
  },
  {
   "cell_type": "code",
   "execution_count": 40,
   "id": "405ba915",
   "metadata": {},
   "outputs": [
    {
     "data": {
      "text/html": [
       "<div>\n",
       "<style scoped>\n",
       "    .dataframe tbody tr th:only-of-type {\n",
       "        vertical-align: middle;\n",
       "    }\n",
       "\n",
       "    .dataframe tbody tr th {\n",
       "        vertical-align: top;\n",
       "    }\n",
       "\n",
       "    .dataframe thead th {\n",
       "        text-align: right;\n",
       "    }\n",
       "</style>\n",
       "<table border=\"1\" class=\"dataframe\">\n",
       "  <thead>\n",
       "    <tr style=\"text-align: right;\">\n",
       "      <th></th>\n",
       "      <th>id</th>\n",
       "      <th>origin_taz</th>\n",
       "      <th>destination_taz</th>\n",
       "      <th>trip_distance</th>\n",
       "      <th>trip_duration</th>\n",
       "      <th>pu_date_hour</th>\n",
       "      <th>pu_date</th>\n",
       "      <th>year</th>\n",
       "      <th>month</th>\n",
       "      <th>day</th>\n",
       "      <th>hour</th>\n",
       "      <th>weekday</th>\n",
       "      <th>duration_min</th>\n",
       "      <th>trip_mpg_avg</th>\n",
       "    </tr>\n",
       "  </thead>\n",
       "  <tbody>\n",
       "    <tr>\n",
       "      <th>15155317</th>\n",
       "      <td>39535</td>\n",
       "      <td>2A</td>\n",
       "      <td>11</td>\n",
       "      <td>3.9368</td>\n",
       "      <td>NaN</td>\n",
       "      <td>2015-04-25 12:00:00</td>\n",
       "      <td>2015-04-25</td>\n",
       "      <td>2015</td>\n",
       "      <td>4</td>\n",
       "      <td>25</td>\n",
       "      <td>12</td>\n",
       "      <td>5</td>\n",
       "      <td>19.7321</td>\n",
       "      <td>11.9708</td>\n",
       "    </tr>\n",
       "    <tr>\n",
       "      <th>15245057</th>\n",
       "      <td>1009076</td>\n",
       "      <td>2A</td>\n",
       "      <td>2A</td>\n",
       "      <td>1.3588</td>\n",
       "      <td>NaN</td>\n",
       "      <td>2015-04-26 01:00:00</td>\n",
       "      <td>2015-04-26</td>\n",
       "      <td>2015</td>\n",
       "      <td>4</td>\n",
       "      <td>26</td>\n",
       "      <td>1</td>\n",
       "      <td>6</td>\n",
       "      <td>10.9195</td>\n",
       "      <td>7.4660</td>\n",
       "    </tr>\n",
       "    <tr>\n",
       "      <th>16519652</th>\n",
       "      <td>15028665</td>\n",
       "      <td>2A</td>\n",
       "      <td>7C</td>\n",
       "      <td>9.0394</td>\n",
       "      <td>NaN</td>\n",
       "      <td>2015-04-29 21:00:00</td>\n",
       "      <td>2015-04-29</td>\n",
       "      <td>2015</td>\n",
       "      <td>4</td>\n",
       "      <td>29</td>\n",
       "      <td>21</td>\n",
       "      <td>2</td>\n",
       "      <td>30.2041</td>\n",
       "      <td>17.9566</td>\n",
       "    </tr>\n",
       "    <tr>\n",
       "      <th>17148253</th>\n",
       "      <td>22250173</td>\n",
       "      <td>2A</td>\n",
       "      <td>2A</td>\n",
       "      <td>1.3588</td>\n",
       "      <td>NaN</td>\n",
       "      <td>2015-04-12 02:00:00</td>\n",
       "      <td>2015-04-12</td>\n",
       "      <td>2015</td>\n",
       "      <td>4</td>\n",
       "      <td>12</td>\n",
       "      <td>2</td>\n",
       "      <td>6</td>\n",
       "      <td>10.9195</td>\n",
       "      <td>7.4660</td>\n",
       "    </tr>\n",
       "    <tr>\n",
       "      <th>17297563</th>\n",
       "      <td>23716998</td>\n",
       "      <td>2C</td>\n",
       "      <td>11</td>\n",
       "      <td>4.8331</td>\n",
       "      <td>NaN</td>\n",
       "      <td>2015-04-25 13:00:00</td>\n",
       "      <td>2015-04-25</td>\n",
       "      <td>2015</td>\n",
       "      <td>4</td>\n",
       "      <td>25</td>\n",
       "      <td>13</td>\n",
       "      <td>5</td>\n",
       "      <td>24.3851</td>\n",
       "      <td>11.8918</td>\n",
       "    </tr>\n",
       "  </tbody>\n",
       "</table>\n",
       "</div>"
      ],
      "text/plain": [
       "                id origin_taz destination_taz  trip_distance trip_duration  \\\n",
       "15155317     39535         2A              11         3.9368           NaN   \n",
       "15245057   1009076         2A              2A         1.3588           NaN   \n",
       "16519652  15028665         2A              7C         9.0394           NaN   \n",
       "17148253  22250173         2A              2A         1.3588           NaN   \n",
       "17297563  23716998         2C              11         4.8331           NaN   \n",
       "\n",
       "                pu_date_hour    pu_date  year  month  day  hour  weekday  \\\n",
       "15155317 2015-04-25 12:00:00 2015-04-25  2015      4   25    12        5   \n",
       "15245057 2015-04-26 01:00:00 2015-04-26  2015      4   26     1        6   \n",
       "16519652 2015-04-29 21:00:00 2015-04-29  2015      4   29    21        2   \n",
       "17148253 2015-04-12 02:00:00 2015-04-12  2015      4   12     2        6   \n",
       "17297563 2015-04-25 13:00:00 2015-04-25  2015      4   25    13        5   \n",
       "\n",
       "          duration_min  trip_mpg_avg  \n",
       "15155317       19.7321       11.9708  \n",
       "15245057       10.9195        7.4660  \n",
       "16519652       30.2041       17.9566  \n",
       "17148253       10.9195        7.4660  \n",
       "17297563       24.3851       11.8918  "
      ]
     },
     "execution_count": 40,
     "metadata": {},
     "output_type": "execute_result"
    }
   ],
   "source": [
    "df_uber.iloc[df38.index, :].head()"
   ]
  },
  {
   "cell_type": "code",
   "execution_count": 41,
   "id": "9f16ef7b",
   "metadata": {},
   "outputs": [],
   "source": [
    "df_uber = df_uber.drop('trip_duration', axis=1)\n",
    "df_uber = df_uber.drop('pu_date_hour', axis=1)"
   ]
  },
  {
   "cell_type": "code",
   "execution_count": 42,
   "id": "7f046b80",
   "metadata": {},
   "outputs": [
    {
     "data": {
      "text/html": [
       "<div>\n",
       "<style scoped>\n",
       "    .dataframe tbody tr th:only-of-type {\n",
       "        vertical-align: middle;\n",
       "    }\n",
       "\n",
       "    .dataframe tbody tr th {\n",
       "        vertical-align: top;\n",
       "    }\n",
       "\n",
       "    .dataframe thead th {\n",
       "        text-align: right;\n",
       "    }\n",
       "</style>\n",
       "<table border=\"1\" class=\"dataframe\">\n",
       "  <thead>\n",
       "    <tr style=\"text-align: right;\">\n",
       "      <th></th>\n",
       "      <th>id</th>\n",
       "      <th>origin_taz</th>\n",
       "      <th>destination_taz</th>\n",
       "      <th>trip_distance</th>\n",
       "      <th>pu_date</th>\n",
       "      <th>year</th>\n",
       "      <th>month</th>\n",
       "      <th>day</th>\n",
       "      <th>hour</th>\n",
       "      <th>weekday</th>\n",
       "      <th>duration_min</th>\n",
       "      <th>trip_mpg_avg</th>\n",
       "    </tr>\n",
       "  </thead>\n",
       "  <tbody>\n",
       "    <tr>\n",
       "      <th>0</th>\n",
       "      <td>252581</td>\n",
       "      <td>7C</td>\n",
       "      <td>6A</td>\n",
       "      <td>4.2500</td>\n",
       "      <td>2014-09-01</td>\n",
       "      <td>2014</td>\n",
       "      <td>9</td>\n",
       "      <td>1</td>\n",
       "      <td>9</td>\n",
       "      <td>0</td>\n",
       "      <td>15.1833</td>\n",
       "      <td>16.7947</td>\n",
       "    </tr>\n",
       "    <tr>\n",
       "      <th>1</th>\n",
       "      <td>252582</td>\n",
       "      <td>7B</td>\n",
       "      <td>15</td>\n",
       "      <td>10.1700</td>\n",
       "      <td>2014-09-01</td>\n",
       "      <td>2014</td>\n",
       "      <td>9</td>\n",
       "      <td>1</td>\n",
       "      <td>18</td>\n",
       "      <td>0</td>\n",
       "      <td>34.0833</td>\n",
       "      <td>17.9032</td>\n",
       "    </tr>\n",
       "    <tr>\n",
       "      <th>2</th>\n",
       "      <td>252583</td>\n",
       "      <td>11</td>\n",
       "      <td>2A</td>\n",
       "      <td>4.0200</td>\n",
       "      <td>2014-09-01</td>\n",
       "      <td>2014</td>\n",
       "      <td>9</td>\n",
       "      <td>1</td>\n",
       "      <td>17</td>\n",
       "      <td>0</td>\n",
       "      <td>17.1000</td>\n",
       "      <td>14.1053</td>\n",
       "    </tr>\n",
       "    <tr>\n",
       "      <th>3</th>\n",
       "      <td>252584</td>\n",
       "      <td>3B</td>\n",
       "      <td>4A</td>\n",
       "      <td>1.4600</td>\n",
       "      <td>2014-09-01</td>\n",
       "      <td>2014</td>\n",
       "      <td>9</td>\n",
       "      <td>1</td>\n",
       "      <td>13</td>\n",
       "      <td>0</td>\n",
       "      <td>6.5333</td>\n",
       "      <td>13.4082</td>\n",
       "    </tr>\n",
       "    <tr>\n",
       "      <th>4</th>\n",
       "      <td>252585</td>\n",
       "      <td>2A</td>\n",
       "      <td>10</td>\n",
       "      <td>8.3100</td>\n",
       "      <td>2014-09-01</td>\n",
       "      <td>2014</td>\n",
       "      <td>9</td>\n",
       "      <td>1</td>\n",
       "      <td>14</td>\n",
       "      <td>0</td>\n",
       "      <td>26.2833</td>\n",
       "      <td>18.9702</td>\n",
       "    </tr>\n",
       "  </tbody>\n",
       "</table>\n",
       "</div>"
      ],
      "text/plain": [
       "       id origin_taz destination_taz  trip_distance    pu_date  year  month  \\\n",
       "0  252581         7C              6A         4.2500 2014-09-01  2014      9   \n",
       "1  252582         7B              15        10.1700 2014-09-01  2014      9   \n",
       "2  252583         11              2A         4.0200 2014-09-01  2014      9   \n",
       "3  252584         3B              4A         1.4600 2014-09-01  2014      9   \n",
       "4  252585         2A              10         8.3100 2014-09-01  2014      9   \n",
       "\n",
       "   day  hour  weekday  duration_min  trip_mpg_avg  \n",
       "0    1     9        0       15.1833       16.7947  \n",
       "1    1    18        0       34.0833       17.9032  \n",
       "2    1    17        0       17.1000       14.1053  \n",
       "3    1    13        0        6.5333       13.4082  \n",
       "4    1    14        0       26.2833       18.9702  "
      ]
     },
     "execution_count": 42,
     "metadata": {},
     "output_type": "execute_result"
    }
   ],
   "source": [
    "df_uber.head()"
   ]
  },
  {
   "cell_type": "markdown",
   "id": "c6d61857",
   "metadata": {},
   "source": [
    "# Calculate Estimated Revenue per Trip."
   ]
  },
  {
   "cell_type": "code",
   "execution_count": 43,
   "id": "278bca6e",
   "metadata": {},
   "outputs": [],
   "source": [
    "#Source: http://uberestimate.com/prices/New-York-City/ for Uber X\n",
    "base_fare = 2.55\n",
    "per_minute = 0.35\n",
    "per_mile = 1.75\n",
    "min_fare = 8"
   ]
  },
  {
   "cell_type": "code",
   "execution_count": 44,
   "id": "db3f5172",
   "metadata": {},
   "outputs": [],
   "source": [
    "df_uber['est_revenue']= df_uber.eval('@base_fare+duration_min * @per_minute + trip_distance *@per_mile')\n",
    "df_uber.loc[df_uber.est_revenue < 8, 'est_revenue']= min_fare"
   ]
  },
  {
   "cell_type": "code",
   "execution_count": 45,
   "id": "b20bba9b",
   "metadata": {},
   "outputs": [
    {
     "data": {
      "text/html": [
       "<div>\n",
       "<style scoped>\n",
       "    .dataframe tbody tr th:only-of-type {\n",
       "        vertical-align: middle;\n",
       "    }\n",
       "\n",
       "    .dataframe tbody tr th {\n",
       "        vertical-align: top;\n",
       "    }\n",
       "\n",
       "    .dataframe thead th {\n",
       "        text-align: right;\n",
       "    }\n",
       "</style>\n",
       "<table border=\"1\" class=\"dataframe\">\n",
       "  <thead>\n",
       "    <tr style=\"text-align: right;\">\n",
       "      <th></th>\n",
       "      <th>id</th>\n",
       "      <th>origin_taz</th>\n",
       "      <th>destination_taz</th>\n",
       "      <th>trip_distance</th>\n",
       "      <th>pu_date</th>\n",
       "      <th>year</th>\n",
       "      <th>month</th>\n",
       "      <th>day</th>\n",
       "      <th>hour</th>\n",
       "      <th>weekday</th>\n",
       "      <th>duration_min</th>\n",
       "      <th>trip_mpg_avg</th>\n",
       "      <th>est_revenue</th>\n",
       "    </tr>\n",
       "  </thead>\n",
       "  <tbody>\n",
       "    <tr>\n",
       "      <th>0</th>\n",
       "      <td>252581</td>\n",
       "      <td>7C</td>\n",
       "      <td>6A</td>\n",
       "      <td>4.2500</td>\n",
       "      <td>2014-09-01</td>\n",
       "      <td>2014</td>\n",
       "      <td>9</td>\n",
       "      <td>1</td>\n",
       "      <td>9</td>\n",
       "      <td>0</td>\n",
       "      <td>15.1833</td>\n",
       "      <td>16.7947</td>\n",
       "      <td>15.3017</td>\n",
       "    </tr>\n",
       "    <tr>\n",
       "      <th>1</th>\n",
       "      <td>252582</td>\n",
       "      <td>7B</td>\n",
       "      <td>15</td>\n",
       "      <td>10.1700</td>\n",
       "      <td>2014-09-01</td>\n",
       "      <td>2014</td>\n",
       "      <td>9</td>\n",
       "      <td>1</td>\n",
       "      <td>18</td>\n",
       "      <td>0</td>\n",
       "      <td>34.0833</td>\n",
       "      <td>17.9032</td>\n",
       "      <td>32.2767</td>\n",
       "    </tr>\n",
       "    <tr>\n",
       "      <th>2</th>\n",
       "      <td>252583</td>\n",
       "      <td>11</td>\n",
       "      <td>2A</td>\n",
       "      <td>4.0200</td>\n",
       "      <td>2014-09-01</td>\n",
       "      <td>2014</td>\n",
       "      <td>9</td>\n",
       "      <td>1</td>\n",
       "      <td>17</td>\n",
       "      <td>0</td>\n",
       "      <td>17.1000</td>\n",
       "      <td>14.1053</td>\n",
       "      <td>15.5700</td>\n",
       "    </tr>\n",
       "    <tr>\n",
       "      <th>3</th>\n",
       "      <td>252584</td>\n",
       "      <td>3B</td>\n",
       "      <td>4A</td>\n",
       "      <td>1.4600</td>\n",
       "      <td>2014-09-01</td>\n",
       "      <td>2014</td>\n",
       "      <td>9</td>\n",
       "      <td>1</td>\n",
       "      <td>13</td>\n",
       "      <td>0</td>\n",
       "      <td>6.5333</td>\n",
       "      <td>13.4082</td>\n",
       "      <td>8.0000</td>\n",
       "    </tr>\n",
       "    <tr>\n",
       "      <th>4</th>\n",
       "      <td>252585</td>\n",
       "      <td>2A</td>\n",
       "      <td>10</td>\n",
       "      <td>8.3100</td>\n",
       "      <td>2014-09-01</td>\n",
       "      <td>2014</td>\n",
       "      <td>9</td>\n",
       "      <td>1</td>\n",
       "      <td>14</td>\n",
       "      <td>0</td>\n",
       "      <td>26.2833</td>\n",
       "      <td>18.9702</td>\n",
       "      <td>26.2917</td>\n",
       "    </tr>\n",
       "  </tbody>\n",
       "</table>\n",
       "</div>"
      ],
      "text/plain": [
       "       id origin_taz destination_taz  trip_distance    pu_date  year  month  \\\n",
       "0  252581         7C              6A         4.2500 2014-09-01  2014      9   \n",
       "1  252582         7B              15        10.1700 2014-09-01  2014      9   \n",
       "2  252583         11              2A         4.0200 2014-09-01  2014      9   \n",
       "3  252584         3B              4A         1.4600 2014-09-01  2014      9   \n",
       "4  252585         2A              10         8.3100 2014-09-01  2014      9   \n",
       "\n",
       "   day  hour  weekday  duration_min  trip_mpg_avg  est_revenue  \n",
       "0    1     9        0       15.1833       16.7947      15.3017  \n",
       "1    1    18        0       34.0833       17.9032      32.2767  \n",
       "2    1    17        0       17.1000       14.1053      15.5700  \n",
       "3    1    13        0        6.5333       13.4082       8.0000  \n",
       "4    1    14        0       26.2833       18.9702      26.2917  "
      ]
     },
     "execution_count": 45,
     "metadata": {},
     "output_type": "execute_result"
    }
   ],
   "source": [
    "df_uber.head()"
   ]
  },
  {
   "cell_type": "markdown",
   "id": "2164ee3a",
   "metadata": {},
   "source": [
    "# Queries for Checking Data Consistency."
   ]
  },
  {
   "cell_type": "code",
   "execution_count": 46,
   "id": "92f1cbf2",
   "metadata": {},
   "outputs": [
    {
     "name": "stdout",
     "output_type": "stream",
     "text": [
      "7\n"
     ]
    }
   ],
   "source": [
    "print (len(df_uber[(df_uber.duration_min >= 6000)]))"
   ]
  },
  {
   "cell_type": "code",
   "execution_count": 47,
   "id": "b902e3dd",
   "metadata": {},
   "outputs": [
    {
     "data": {
      "text/plain": [
       "78069.74916666666"
      ]
     },
     "execution_count": 47,
     "metadata": {},
     "output_type": "execute_result"
    }
   ],
   "source": [
    "df_uber[(df_uber.duration_min > 960) & (df_uber.duration_min < 6000)].est_revenue.sum() #$78,070 total revenue"
   ]
  },
  {
   "cell_type": "code",
   "execution_count": 49,
   "id": "f3c5166e",
   "metadata": {},
   "outputs": [
    {
     "name": "stdout",
     "output_type": "stream",
     "text": [
      "24866\n"
     ]
    },
    {
     "data": {
      "text/html": [
       "<div>\n",
       "<style scoped>\n",
       "    .dataframe tbody tr th:only-of-type {\n",
       "        vertical-align: middle;\n",
       "    }\n",
       "\n",
       "    .dataframe tbody tr th {\n",
       "        vertical-align: top;\n",
       "    }\n",
       "\n",
       "    .dataframe thead th {\n",
       "        text-align: right;\n",
       "    }\n",
       "</style>\n",
       "<table border=\"1\" class=\"dataframe\">\n",
       "  <thead>\n",
       "    <tr style=\"text-align: right;\">\n",
       "      <th></th>\n",
       "      <th>id</th>\n",
       "      <th>origin_taz</th>\n",
       "      <th>destination_taz</th>\n",
       "      <th>trip_distance</th>\n",
       "      <th>pu_date</th>\n",
       "      <th>year</th>\n",
       "      <th>month</th>\n",
       "      <th>day</th>\n",
       "      <th>hour</th>\n",
       "      <th>weekday</th>\n",
       "      <th>duration_min</th>\n",
       "      <th>trip_mpg_avg</th>\n",
       "      <th>est_revenue</th>\n",
       "    </tr>\n",
       "  </thead>\n",
       "  <tbody>\n",
       "    <tr>\n",
       "      <th>21726</th>\n",
       "      <td>274307</td>\n",
       "      <td>4B</td>\n",
       "      <td>8</td>\n",
       "      <td>0.0000</td>\n",
       "      <td>2014-09-29</td>\n",
       "      <td>2014</td>\n",
       "      <td>9</td>\n",
       "      <td>29</td>\n",
       "      <td>17</td>\n",
       "      <td>0</td>\n",
       "      <td>0.0000</td>\n",
       "      <td>NaN</td>\n",
       "      <td>8.0000</td>\n",
       "    </tr>\n",
       "    <tr>\n",
       "      <th>21847</th>\n",
       "      <td>274428</td>\n",
       "      <td>4C</td>\n",
       "      <td>2A</td>\n",
       "      <td>0.0000</td>\n",
       "      <td>2014-09-29</td>\n",
       "      <td>2014</td>\n",
       "      <td>9</td>\n",
       "      <td>29</td>\n",
       "      <td>17</td>\n",
       "      <td>0</td>\n",
       "      <td>0.0000</td>\n",
       "      <td>NaN</td>\n",
       "      <td>8.0000</td>\n",
       "    </tr>\n",
       "    <tr>\n",
       "      <th>21909</th>\n",
       "      <td>274490</td>\n",
       "      <td>5C</td>\n",
       "      <td>6A</td>\n",
       "      <td>0.0000</td>\n",
       "      <td>2014-09-29</td>\n",
       "      <td>2014</td>\n",
       "      <td>9</td>\n",
       "      <td>29</td>\n",
       "      <td>19</td>\n",
       "      <td>0</td>\n",
       "      <td>0.0000</td>\n",
       "      <td>NaN</td>\n",
       "      <td>8.0000</td>\n",
       "    </tr>\n",
       "    <tr>\n",
       "      <th>22179</th>\n",
       "      <td>274760</td>\n",
       "      <td>11</td>\n",
       "      <td>4A</td>\n",
       "      <td>0.0000</td>\n",
       "      <td>2014-09-29</td>\n",
       "      <td>2014</td>\n",
       "      <td>9</td>\n",
       "      <td>29</td>\n",
       "      <td>17</td>\n",
       "      <td>0</td>\n",
       "      <td>0.0000</td>\n",
       "      <td>NaN</td>\n",
       "      <td>8.0000</td>\n",
       "    </tr>\n",
       "    <tr>\n",
       "      <th>22359</th>\n",
       "      <td>274940</td>\n",
       "      <td>3C</td>\n",
       "      <td>1</td>\n",
       "      <td>0.0000</td>\n",
       "      <td>2014-09-30</td>\n",
       "      <td>2014</td>\n",
       "      <td>9</td>\n",
       "      <td>30</td>\n",
       "      <td>14</td>\n",
       "      <td>1</td>\n",
       "      <td>0.0000</td>\n",
       "      <td>NaN</td>\n",
       "      <td>8.0000</td>\n",
       "    </tr>\n",
       "  </tbody>\n",
       "</table>\n",
       "</div>"
      ],
      "text/plain": [
       "           id origin_taz destination_taz  trip_distance    pu_date  year  \\\n",
       "21726  274307         4B               8         0.0000 2014-09-29  2014   \n",
       "21847  274428         4C              2A         0.0000 2014-09-29  2014   \n",
       "21909  274490         5C              6A         0.0000 2014-09-29  2014   \n",
       "22179  274760         11              4A         0.0000 2014-09-29  2014   \n",
       "22359  274940         3C               1         0.0000 2014-09-30  2014   \n",
       "\n",
       "       month  day  hour  weekday  duration_min  trip_mpg_avg  est_revenue  \n",
       "21726      9   29    17        0        0.0000           NaN       8.0000  \n",
       "21847      9   29    17        0        0.0000           NaN       8.0000  \n",
       "21909      9   29    19        0        0.0000           NaN       8.0000  \n",
       "22179      9   29    17        0        0.0000           NaN       8.0000  \n",
       "22359      9   30    14        1        0.0000           NaN       8.0000  "
      ]
     },
     "execution_count": 49,
     "metadata": {},
     "output_type": "execute_result"
    }
   ],
   "source": [
    "print(len(df_uber[(df_uber.duration_min==0) & (df_uber.trip_distance==0)]))\n",
    "df_uber[(df_uber.duration_min == 0) & (df_uber.trip_distance == 0) & (df_uber.origin_taz != df_uber.destination_taz)].\\\n",
    "head()"
   ]
  },
  {
   "cell_type": "code",
   "execution_count": 52,
   "id": "b260f8c9",
   "metadata": {},
   "outputs": [
    {
     "name": "stdout",
     "output_type": "stream",
     "text": [
      "85515\n"
     ]
    }
   ],
   "source": [
    "print(len(df_uber[(df_uber.duration_min > 0) & (df_uber.trip_distance==0)]))"
   ]
  },
  {
   "cell_type": "code",
   "execution_count": 53,
   "id": "b529217c",
   "metadata": {},
   "outputs": [
    {
     "data": {
      "text/html": [
       "<div>\n",
       "<style scoped>\n",
       "    .dataframe tbody tr th:only-of-type {\n",
       "        vertical-align: middle;\n",
       "    }\n",
       "\n",
       "    .dataframe tbody tr th {\n",
       "        vertical-align: top;\n",
       "    }\n",
       "\n",
       "    .dataframe thead th {\n",
       "        text-align: right;\n",
       "    }\n",
       "</style>\n",
       "<table border=\"1\" class=\"dataframe\">\n",
       "  <thead>\n",
       "    <tr style=\"text-align: right;\">\n",
       "      <th></th>\n",
       "      <th>id</th>\n",
       "      <th>origin_taz</th>\n",
       "      <th>destination_taz</th>\n",
       "      <th>trip_distance</th>\n",
       "      <th>pu_date</th>\n",
       "      <th>year</th>\n",
       "      <th>month</th>\n",
       "      <th>day</th>\n",
       "      <th>hour</th>\n",
       "      <th>weekday</th>\n",
       "      <th>duration_min</th>\n",
       "      <th>trip_mpg_avg</th>\n",
       "      <th>est_revenue</th>\n",
       "    </tr>\n",
       "  </thead>\n",
       "  <tbody>\n",
       "    <tr>\n",
       "      <th>882890</th>\n",
       "      <td>18153735</td>\n",
       "      <td>1</td>\n",
       "      <td>2A</td>\n",
       "      <td>0.0000</td>\n",
       "      <td>2014-09-28</td>\n",
       "      <td>2014</td>\n",
       "      <td>9</td>\n",
       "      <td>28</td>\n",
       "      <td>1</td>\n",
       "      <td>6</td>\n",
       "      <td>7.1167</td>\n",
       "      <td>0.0000</td>\n",
       "      <td>8.0000</td>\n",
       "    </tr>\n",
       "    <tr>\n",
       "      <th>3223424</th>\n",
       "      <td>29754237</td>\n",
       "      <td>4C</td>\n",
       "      <td>6A</td>\n",
       "      <td>0.0000</td>\n",
       "      <td>2014-10-05</td>\n",
       "      <td>2014</td>\n",
       "      <td>10</td>\n",
       "      <td>5</td>\n",
       "      <td>20</td>\n",
       "      <td>6</td>\n",
       "      <td>7.5167</td>\n",
       "      <td>0.0000</td>\n",
       "      <td>8.0000</td>\n",
       "    </tr>\n",
       "    <tr>\n",
       "      <th>18154210</th>\n",
       "      <td>2023861</td>\n",
       "      <td>1</td>\n",
       "      <td>4C</td>\n",
       "      <td>0.0000</td>\n",
       "      <td>2015-05-28</td>\n",
       "      <td>2015</td>\n",
       "      <td>5</td>\n",
       "      <td>28</td>\n",
       "      <td>12</td>\n",
       "      <td>3</td>\n",
       "      <td>27.2000</td>\n",
       "      <td>0.0000</td>\n",
       "      <td>12.0700</td>\n",
       "    </tr>\n",
       "    <tr>\n",
       "      <th>18829282</th>\n",
       "      <td>8785823</td>\n",
       "      <td>4B</td>\n",
       "      <td>8</td>\n",
       "      <td>0.0000</td>\n",
       "      <td>2015-05-26</td>\n",
       "      <td>2015</td>\n",
       "      <td>5</td>\n",
       "      <td>26</td>\n",
       "      <td>16</td>\n",
       "      <td>1</td>\n",
       "      <td>38.7833</td>\n",
       "      <td>0.0000</td>\n",
       "      <td>16.1242</td>\n",
       "    </tr>\n",
       "    <tr>\n",
       "      <th>19414939</th>\n",
       "      <td>14586763</td>\n",
       "      <td>4C</td>\n",
       "      <td>5C</td>\n",
       "      <td>0.0000</td>\n",
       "      <td>2015-05-28</td>\n",
       "      <td>2015</td>\n",
       "      <td>5</td>\n",
       "      <td>28</td>\n",
       "      <td>18</td>\n",
       "      <td>3</td>\n",
       "      <td>11.0167</td>\n",
       "      <td>0.0000</td>\n",
       "      <td>8.0000</td>\n",
       "    </tr>\n",
       "    <tr>\n",
       "      <th>20674992</th>\n",
       "      <td>27149481</td>\n",
       "      <td>4C</td>\n",
       "      <td>1</td>\n",
       "      <td>0.0000</td>\n",
       "      <td>2015-05-28</td>\n",
       "      <td>2015</td>\n",
       "      <td>5</td>\n",
       "      <td>28</td>\n",
       "      <td>11</td>\n",
       "      <td>3</td>\n",
       "      <td>32.8500</td>\n",
       "      <td>0.0000</td>\n",
       "      <td>14.0475</td>\n",
       "    </tr>\n",
       "    <tr>\n",
       "      <th>21376632</th>\n",
       "      <td>3045165</td>\n",
       "      <td>1</td>\n",
       "      <td>6B</td>\n",
       "      <td>0.0000</td>\n",
       "      <td>2015-06-28</td>\n",
       "      <td>2015</td>\n",
       "      <td>6</td>\n",
       "      <td>28</td>\n",
       "      <td>23</td>\n",
       "      <td>6</td>\n",
       "      <td>32.8167</td>\n",
       "      <td>0.0000</td>\n",
       "      <td>14.0358</td>\n",
       "    </tr>\n",
       "    <tr>\n",
       "      <th>21472913</th>\n",
       "      <td>4006319</td>\n",
       "      <td>15</td>\n",
       "      <td>4A</td>\n",
       "      <td>0.0000</td>\n",
       "      <td>2015-06-26</td>\n",
       "      <td>2015</td>\n",
       "      <td>6</td>\n",
       "      <td>26</td>\n",
       "      <td>10</td>\n",
       "      <td>4</td>\n",
       "      <td>55.7333</td>\n",
       "      <td>0.0000</td>\n",
       "      <td>22.0567</td>\n",
       "    </tr>\n",
       "    <tr>\n",
       "      <th>21517547</th>\n",
       "      <td>4482860</td>\n",
       "      <td>1</td>\n",
       "      <td>5C</td>\n",
       "      <td>0.0000</td>\n",
       "      <td>2015-06-23</td>\n",
       "      <td>2015</td>\n",
       "      <td>6</td>\n",
       "      <td>23</td>\n",
       "      <td>13</td>\n",
       "      <td>1</td>\n",
       "      <td>22.3500</td>\n",
       "      <td>0.0000</td>\n",
       "      <td>10.3725</td>\n",
       "    </tr>\n",
       "    <tr>\n",
       "      <th>21727436</th>\n",
       "      <td>6421520</td>\n",
       "      <td>6B</td>\n",
       "      <td>NaN</td>\n",
       "      <td>0.0000</td>\n",
       "      <td>2015-06-26</td>\n",
       "      <td>2015</td>\n",
       "      <td>6</td>\n",
       "      <td>26</td>\n",
       "      <td>9</td>\n",
       "      <td>4</td>\n",
       "      <td>78.2333</td>\n",
       "      <td>0.0000</td>\n",
       "      <td>29.9317</td>\n",
       "    </tr>\n",
       "  </tbody>\n",
       "</table>\n",
       "</div>"
      ],
      "text/plain": [
       "                id origin_taz destination_taz  trip_distance    pu_date  year  \\\n",
       "882890    18153735          1              2A         0.0000 2014-09-28  2014   \n",
       "3223424   29754237         4C              6A         0.0000 2014-10-05  2014   \n",
       "18154210   2023861          1              4C         0.0000 2015-05-28  2015   \n",
       "18829282   8785823         4B               8         0.0000 2015-05-26  2015   \n",
       "19414939  14586763         4C              5C         0.0000 2015-05-28  2015   \n",
       "20674992  27149481         4C               1         0.0000 2015-05-28  2015   \n",
       "21376632   3045165          1              6B         0.0000 2015-06-28  2015   \n",
       "21472913   4006319         15              4A         0.0000 2015-06-26  2015   \n",
       "21517547   4482860          1              5C         0.0000 2015-06-23  2015   \n",
       "21727436   6421520         6B             NaN         0.0000 2015-06-26  2015   \n",
       "\n",
       "          month  day  hour  weekday  duration_min  trip_mpg_avg  est_revenue  \n",
       "882890        9   28     1        6        7.1167        0.0000       8.0000  \n",
       "3223424      10    5    20        6        7.5167        0.0000       8.0000  \n",
       "18154210      5   28    12        3       27.2000        0.0000      12.0700  \n",
       "18829282      5   26    16        1       38.7833        0.0000      16.1242  \n",
       "19414939      5   28    18        3       11.0167        0.0000       8.0000  \n",
       "20674992      5   28    11        3       32.8500        0.0000      14.0475  \n",
       "21376632      6   28    23        6       32.8167        0.0000      14.0358  \n",
       "21472913      6   26    10        4       55.7333        0.0000      22.0567  \n",
       "21517547      6   23    13        1       22.3500        0.0000      10.3725  \n",
       "21727436      6   26     9        4       78.2333        0.0000      29.9317  "
      ]
     },
     "execution_count": 53,
     "metadata": {},
     "output_type": "execute_result"
    }
   ],
   "source": [
    "df_uber[(df_uber.duration_min >= 5) & (df_uber.trip_distance == 0) &(df_uber.origin_taz != df_uber.destination_taz)]\\\n",
    ".head(10)"
   ]
  },
  {
   "cell_type": "markdown",
   "id": "f7840474",
   "metadata": {},
   "source": [
    "# calculated average trip speed"
   ]
  },
  {
   "cell_type": "code",
   "execution_count": 55,
   "id": "75aed563",
   "metadata": {},
   "outputs": [
    {
     "name": "stdout",
     "output_type": "stream",
     "text": [
      "262666\n"
     ]
    },
    {
     "data": {
      "text/html": [
       "<div>\n",
       "<style scoped>\n",
       "    .dataframe tbody tr th:only-of-type {\n",
       "        vertical-align: middle;\n",
       "    }\n",
       "\n",
       "    .dataframe tbody tr th {\n",
       "        vertical-align: top;\n",
       "    }\n",
       "\n",
       "    .dataframe thead th {\n",
       "        text-align: right;\n",
       "    }\n",
       "</style>\n",
       "<table border=\"1\" class=\"dataframe\">\n",
       "  <thead>\n",
       "    <tr style=\"text-align: right;\">\n",
       "      <th></th>\n",
       "      <th>id</th>\n",
       "      <th>origin_taz</th>\n",
       "      <th>destination_taz</th>\n",
       "      <th>trip_distance</th>\n",
       "      <th>pu_date</th>\n",
       "      <th>year</th>\n",
       "      <th>month</th>\n",
       "      <th>day</th>\n",
       "      <th>hour</th>\n",
       "      <th>weekday</th>\n",
       "      <th>duration_min</th>\n",
       "      <th>trip_mpg_avg</th>\n",
       "      <th>est_revenue</th>\n",
       "    </tr>\n",
       "  </thead>\n",
       "  <tbody>\n",
       "    <tr>\n",
       "      <th>82</th>\n",
       "      <td>252663</td>\n",
       "      <td>14</td>\n",
       "      <td>14</td>\n",
       "      <td>0.0200</td>\n",
       "      <td>2014-09-01</td>\n",
       "      <td>2014</td>\n",
       "      <td>9</td>\n",
       "      <td>1</td>\n",
       "      <td>11</td>\n",
       "      <td>0</td>\n",
       "      <td>1.3333</td>\n",
       "      <td>0.9000</td>\n",
       "      <td>8.0000</td>\n",
       "    </tr>\n",
       "    <tr>\n",
       "      <th>120</th>\n",
       "      <td>252701</td>\n",
       "      <td>2A</td>\n",
       "      <td>2A</td>\n",
       "      <td>1.5100</td>\n",
       "      <td>2014-09-01</td>\n",
       "      <td>2014</td>\n",
       "      <td>9</td>\n",
       "      <td>1</td>\n",
       "      <td>20</td>\n",
       "      <td>0</td>\n",
       "      <td>33.8833</td>\n",
       "      <td>2.6739</td>\n",
       "      <td>17.0517</td>\n",
       "    </tr>\n",
       "    <tr>\n",
       "      <th>271</th>\n",
       "      <td>252852</td>\n",
       "      <td>8</td>\n",
       "      <td>8</td>\n",
       "      <td>0.0000</td>\n",
       "      <td>2014-09-01</td>\n",
       "      <td>2014</td>\n",
       "      <td>9</td>\n",
       "      <td>1</td>\n",
       "      <td>16</td>\n",
       "      <td>0</td>\n",
       "      <td>0.5000</td>\n",
       "      <td>0.0000</td>\n",
       "      <td>8.0000</td>\n",
       "    </tr>\n",
       "    <tr>\n",
       "      <th>542</th>\n",
       "      <td>253123</td>\n",
       "      <td>4C</td>\n",
       "      <td>4C</td>\n",
       "      <td>0.0500</td>\n",
       "      <td>2014-09-02</td>\n",
       "      <td>2014</td>\n",
       "      <td>9</td>\n",
       "      <td>2</td>\n",
       "      <td>17</td>\n",
       "      <td>1</td>\n",
       "      <td>1.1000</td>\n",
       "      <td>2.7273</td>\n",
       "      <td>8.0000</td>\n",
       "    </tr>\n",
       "    <tr>\n",
       "      <th>554</th>\n",
       "      <td>253135</td>\n",
       "      <td>2A</td>\n",
       "      <td>2A</td>\n",
       "      <td>0.0000</td>\n",
       "      <td>2014-09-02</td>\n",
       "      <td>2014</td>\n",
       "      <td>9</td>\n",
       "      <td>2</td>\n",
       "      <td>9</td>\n",
       "      <td>1</td>\n",
       "      <td>2.6833</td>\n",
       "      <td>0.0000</td>\n",
       "      <td>8.0000</td>\n",
       "    </tr>\n",
       "    <tr>\n",
       "      <th>605</th>\n",
       "      <td>253186</td>\n",
       "      <td>2A</td>\n",
       "      <td>2A</td>\n",
       "      <td>0.0500</td>\n",
       "      <td>2014-09-02</td>\n",
       "      <td>2014</td>\n",
       "      <td>9</td>\n",
       "      <td>2</td>\n",
       "      <td>20</td>\n",
       "      <td>1</td>\n",
       "      <td>1.4500</td>\n",
       "      <td>2.0690</td>\n",
       "      <td>8.0000</td>\n",
       "    </tr>\n",
       "    <tr>\n",
       "      <th>839</th>\n",
       "      <td>253420</td>\n",
       "      <td>2A</td>\n",
       "      <td>2A</td>\n",
       "      <td>0.4700</td>\n",
       "      <td>2014-09-02</td>\n",
       "      <td>2014</td>\n",
       "      <td>9</td>\n",
       "      <td>2</td>\n",
       "      <td>13</td>\n",
       "      <td>1</td>\n",
       "      <td>10.5833</td>\n",
       "      <td>2.6646</td>\n",
       "      <td>8.0000</td>\n",
       "    </tr>\n",
       "    <tr>\n",
       "      <th>896</th>\n",
       "      <td>253477</td>\n",
       "      <td>5C</td>\n",
       "      <td>6B</td>\n",
       "      <td>0.9900</td>\n",
       "      <td>2014-09-02</td>\n",
       "      <td>2014</td>\n",
       "      <td>9</td>\n",
       "      <td>2</td>\n",
       "      <td>17</td>\n",
       "      <td>1</td>\n",
       "      <td>22.1833</td>\n",
       "      <td>2.6777</td>\n",
       "      <td>12.0467</td>\n",
       "    </tr>\n",
       "    <tr>\n",
       "      <th>945</th>\n",
       "      <td>253526</td>\n",
       "      <td>14</td>\n",
       "      <td>14</td>\n",
       "      <td>0.0400</td>\n",
       "      <td>2014-09-02</td>\n",
       "      <td>2014</td>\n",
       "      <td>9</td>\n",
       "      <td>2</td>\n",
       "      <td>2</td>\n",
       "      <td>1</td>\n",
       "      <td>1.4000</td>\n",
       "      <td>1.7143</td>\n",
       "      <td>8.0000</td>\n",
       "    </tr>\n",
       "    <tr>\n",
       "      <th>1260</th>\n",
       "      <td>253841</td>\n",
       "      <td>4A</td>\n",
       "      <td>4A</td>\n",
       "      <td>0.0600</td>\n",
       "      <td>2014-09-02</td>\n",
       "      <td>2014</td>\n",
       "      <td>9</td>\n",
       "      <td>2</td>\n",
       "      <td>20</td>\n",
       "      <td>1</td>\n",
       "      <td>1.3500</td>\n",
       "      <td>2.6667</td>\n",
       "      <td>8.0000</td>\n",
       "    </tr>\n",
       "  </tbody>\n",
       "</table>\n",
       "</div>"
      ],
      "text/plain": [
       "          id origin_taz destination_taz  trip_distance    pu_date  year  \\\n",
       "82    252663         14              14         0.0200 2014-09-01  2014   \n",
       "120   252701         2A              2A         1.5100 2014-09-01  2014   \n",
       "271   252852          8               8         0.0000 2014-09-01  2014   \n",
       "542   253123         4C              4C         0.0500 2014-09-02  2014   \n",
       "554   253135         2A              2A         0.0000 2014-09-02  2014   \n",
       "605   253186         2A              2A         0.0500 2014-09-02  2014   \n",
       "839   253420         2A              2A         0.4700 2014-09-02  2014   \n",
       "896   253477         5C              6B         0.9900 2014-09-02  2014   \n",
       "945   253526         14              14         0.0400 2014-09-02  2014   \n",
       "1260  253841         4A              4A         0.0600 2014-09-02  2014   \n",
       "\n",
       "      month  day  hour  weekday  duration_min  trip_mpg_avg  est_revenue  \n",
       "82        9    1    11        0        1.3333        0.9000       8.0000  \n",
       "120       9    1    20        0       33.8833        2.6739      17.0517  \n",
       "271       9    1    16        0        0.5000        0.0000       8.0000  \n",
       "542       9    2    17        1        1.1000        2.7273       8.0000  \n",
       "554       9    2     9        1        2.6833        0.0000       8.0000  \n",
       "605       9    2    20        1        1.4500        2.0690       8.0000  \n",
       "839       9    2    13        1       10.5833        2.6646       8.0000  \n",
       "896       9    2    17        1       22.1833        2.6777      12.0467  \n",
       "945       9    2     2        1        1.4000        1.7143       8.0000  \n",
       "1260      9    2    20        1        1.3500        2.6667       8.0000  "
      ]
     },
     "execution_count": 55,
     "metadata": {},
     "output_type": "execute_result"
    }
   ],
   "source": [
    "print(len(df_uber[(df_uber.trip_mpg_avg <=3)]))\n",
    "#Travel distance under 2 miles\n",
    "df_uber[(df_uber.trip_mpg_avg <= 3) & (df_uber.trip_distance <= 2)].head(10)"
   ]
  },
  {
   "cell_type": "code",
   "execution_count": 58,
   "id": "dd1db68e",
   "metadata": {},
   "outputs": [
    {
     "data": {
      "text/html": [
       "<div>\n",
       "<style scoped>\n",
       "    .dataframe tbody tr th:only-of-type {\n",
       "        vertical-align: middle;\n",
       "    }\n",
       "\n",
       "    .dataframe tbody tr th {\n",
       "        vertical-align: top;\n",
       "    }\n",
       "\n",
       "    .dataframe thead th {\n",
       "        text-align: right;\n",
       "    }\n",
       "</style>\n",
       "<table border=\"1\" class=\"dataframe\">\n",
       "  <thead>\n",
       "    <tr style=\"text-align: right;\">\n",
       "      <th></th>\n",
       "      <th>id</th>\n",
       "      <th>origin_taz</th>\n",
       "      <th>destination_taz</th>\n",
       "      <th>trip_distance</th>\n",
       "      <th>pu_date</th>\n",
       "      <th>year</th>\n",
       "      <th>month</th>\n",
       "      <th>day</th>\n",
       "      <th>hour</th>\n",
       "      <th>weekday</th>\n",
       "      <th>duration_min</th>\n",
       "      <th>trip_mph_avg</th>\n",
       "      <th>est_revenue</th>\n",
       "    </tr>\n",
       "  </thead>\n",
       "  <tbody>\n",
       "    <tr>\n",
       "      <th>539</th>\n",
       "      <td>253120</td>\n",
       "      <td>5B</td>\n",
       "      <td>10</td>\n",
       "      <td>8.3400</td>\n",
       "      <td>2014-09-02</td>\n",
       "      <td>2014</td>\n",
       "      <td>9</td>\n",
       "      <td>2</td>\n",
       "      <td>11</td>\n",
       "      <td>1</td>\n",
       "      <td>173.3667</td>\n",
       "      <td>2.8864</td>\n",
       "      <td>77.8233</td>\n",
       "    </tr>\n",
       "    <tr>\n",
       "      <th>7798</th>\n",
       "      <td>260379</td>\n",
       "      <td>6A</td>\n",
       "      <td>6A</td>\n",
       "      <td>6.0100</td>\n",
       "      <td>2014-09-11</td>\n",
       "      <td>2014</td>\n",
       "      <td>9</td>\n",
       "      <td>11</td>\n",
       "      <td>12</td>\n",
       "      <td>3</td>\n",
       "      <td>128.1500</td>\n",
       "      <td>2.8139</td>\n",
       "      <td>57.9200</td>\n",
       "    </tr>\n",
       "    <tr>\n",
       "      <th>14734</th>\n",
       "      <td>267315</td>\n",
       "      <td>6B</td>\n",
       "      <td>5C</td>\n",
       "      <td>9.0800</td>\n",
       "      <td>2014-09-19</td>\n",
       "      <td>2014</td>\n",
       "      <td>9</td>\n",
       "      <td>19</td>\n",
       "      <td>13</td>\n",
       "      <td>4</td>\n",
       "      <td>196.2500</td>\n",
       "      <td>2.7761</td>\n",
       "      <td>87.1275</td>\n",
       "    </tr>\n",
       "    <tr>\n",
       "      <th>14996</th>\n",
       "      <td>267577</td>\n",
       "      <td>4C</td>\n",
       "      <td>6A</td>\n",
       "      <td>5.4800</td>\n",
       "      <td>2014-09-20</td>\n",
       "      <td>2014</td>\n",
       "      <td>9</td>\n",
       "      <td>20</td>\n",
       "      <td>15</td>\n",
       "      <td>5</td>\n",
       "      <td>110.7000</td>\n",
       "      <td>2.9702</td>\n",
       "      <td>50.8850</td>\n",
       "    </tr>\n",
       "    <tr>\n",
       "      <th>17131</th>\n",
       "      <td>269712</td>\n",
       "      <td>2A</td>\n",
       "      <td>NaN</td>\n",
       "      <td>4.8800</td>\n",
       "      <td>2014-09-21</td>\n",
       "      <td>2014</td>\n",
       "      <td>9</td>\n",
       "      <td>21</td>\n",
       "      <td>20</td>\n",
       "      <td>6</td>\n",
       "      <td>100.4667</td>\n",
       "      <td>2.9144</td>\n",
       "      <td>46.2533</td>\n",
       "    </tr>\n",
       "    <tr>\n",
       "      <th>21955</th>\n",
       "      <td>274536</td>\n",
       "      <td>6B</td>\n",
       "      <td>6B</td>\n",
       "      <td>2.9700</td>\n",
       "      <td>2014-09-29</td>\n",
       "      <td>2014</td>\n",
       "      <td>9</td>\n",
       "      <td>29</td>\n",
       "      <td>12</td>\n",
       "      <td>0</td>\n",
       "      <td>91.0833</td>\n",
       "      <td>1.9565</td>\n",
       "      <td>39.6267</td>\n",
       "    </tr>\n",
       "    <tr>\n",
       "      <th>22567</th>\n",
       "      <td>275148</td>\n",
       "      <td>4C</td>\n",
       "      <td>4C</td>\n",
       "      <td>1.3700</td>\n",
       "      <td>2014-09-30</td>\n",
       "      <td>2014</td>\n",
       "      <td>9</td>\n",
       "      <td>30</td>\n",
       "      <td>14</td>\n",
       "      <td>1</td>\n",
       "      <td>106.4833</td>\n",
       "      <td>0.7720</td>\n",
       "      <td>42.2167</td>\n",
       "    </tr>\n",
       "    <tr>\n",
       "      <th>24080</th>\n",
       "      <td>736706</td>\n",
       "      <td>6B</td>\n",
       "      <td>3A</td>\n",
       "      <td>6.0500</td>\n",
       "      <td>2014-09-02</td>\n",
       "      <td>2014</td>\n",
       "      <td>9</td>\n",
       "      <td>2</td>\n",
       "      <td>16</td>\n",
       "      <td>1</td>\n",
       "      <td>243.2167</td>\n",
       "      <td>1.4925</td>\n",
       "      <td>98.2633</td>\n",
       "    </tr>\n",
       "    <tr>\n",
       "      <th>27977</th>\n",
       "      <td>740603</td>\n",
       "      <td>4C</td>\n",
       "      <td>2B</td>\n",
       "      <td>4.9900</td>\n",
       "      <td>2014-09-07</td>\n",
       "      <td>2014</td>\n",
       "      <td>9</td>\n",
       "      <td>7</td>\n",
       "      <td>18</td>\n",
       "      <td>6</td>\n",
       "      <td>129.9500</td>\n",
       "      <td>2.3040</td>\n",
       "      <td>56.7650</td>\n",
       "    </tr>\n",
       "    <tr>\n",
       "      <th>29077</th>\n",
       "      <td>741703</td>\n",
       "      <td>4A</td>\n",
       "      <td>5A</td>\n",
       "      <td>7.9400</td>\n",
       "      <td>2014-09-08</td>\n",
       "      <td>2014</td>\n",
       "      <td>9</td>\n",
       "      <td>8</td>\n",
       "      <td>15</td>\n",
       "      <td>0</td>\n",
       "      <td>208.4500</td>\n",
       "      <td>2.2854</td>\n",
       "      <td>89.4025</td>\n",
       "    </tr>\n",
       "  </tbody>\n",
       "</table>\n",
       "</div>"
      ],
      "text/plain": [
       "           id origin_taz destination_taz  trip_distance    pu_date  year  \\\n",
       "539    253120         5B              10         8.3400 2014-09-02  2014   \n",
       "7798   260379         6A              6A         6.0100 2014-09-11  2014   \n",
       "14734  267315         6B              5C         9.0800 2014-09-19  2014   \n",
       "14996  267577         4C              6A         5.4800 2014-09-20  2014   \n",
       "17131  269712         2A             NaN         4.8800 2014-09-21  2014   \n",
       "21955  274536         6B              6B         2.9700 2014-09-29  2014   \n",
       "22567  275148         4C              4C         1.3700 2014-09-30  2014   \n",
       "24080  736706         6B              3A         6.0500 2014-09-02  2014   \n",
       "27977  740603         4C              2B         4.9900 2014-09-07  2014   \n",
       "29077  741703         4A              5A         7.9400 2014-09-08  2014   \n",
       "\n",
       "       month  day  hour  weekday  duration_min  trip_mph_avg  est_revenue  \n",
       "539        9    2    11        1      173.3667        2.8864      77.8233  \n",
       "7798       9   11    12        3      128.1500        2.8139      57.9200  \n",
       "14734      9   19    13        4      196.2500        2.7761      87.1275  \n",
       "14996      9   20    15        5      110.7000        2.9702      50.8850  \n",
       "17131      9   21    20        6      100.4667        2.9144      46.2533  \n",
       "21955      9   29    12        0       91.0833        1.9565      39.6267  \n",
       "22567      9   30    14        1      106.4833        0.7720      42.2167  \n",
       "24080      9    2    16        1      243.2167        1.4925      98.2633  \n",
       "27977      9    7    18        6      129.9500        2.3040      56.7650  \n",
       "29077      9    8    15        0      208.4500        2.2854      89.4025  "
      ]
     },
     "execution_count": 58,
     "metadata": {},
     "output_type": "execute_result"
    }
   ],
   "source": [
    "df_uber[(df_uber.trip_mph_avg <= 3) & (df_uber.duration_min > 90) & (df_uber.duration_min <= 960)].head(10)"
   ]
  },
  {
   "cell_type": "markdown",
   "id": "fbb6782d",
   "metadata": {},
   "source": [
    "# Visualizations"
   ]
  },
  {
   "cell_type": "code",
   "execution_count": 60,
   "id": "6c78f431",
   "metadata": {},
   "outputs": [
    {
     "data": {
      "text/plain": [
       "1852"
      ]
     },
     "execution_count": 60,
     "metadata": {},
     "output_type": "execute_result"
    }
   ],
   "source": [
    "len(df_uber[df_uber.pu_date == datetime.datetime(2015, 9, 1)]) #1852 data points to be censored for convenience."
   ]
  },
  {
   "cell_type": "code",
   "execution_count": 61,
   "id": "7cbc4ae1",
   "metadata": {},
   "outputs": [],
   "source": [
    "df_viz = df_uber[(df_uber.pu_date != datetime.datetime(2015, 9, 1)) & (df_uber.duration_min <= 960)].copy() #1975 cases"
   ]
  },
  {
   "cell_type": "code",
   "execution_count": 63,
   "id": "b5a180c4",
   "metadata": {},
   "outputs": [
    {
     "data": {
      "text/html": [
       "<div>\n",
       "<style scoped>\n",
       "    .dataframe tbody tr th:only-of-type {\n",
       "        vertical-align: middle;\n",
       "    }\n",
       "\n",
       "    .dataframe tbody tr th {\n",
       "        vertical-align: top;\n",
       "    }\n",
       "\n",
       "    .dataframe thead th {\n",
       "        text-align: right;\n",
       "    }\n",
       "</style>\n",
       "<table border=\"1\" class=\"dataframe\">\n",
       "  <thead>\n",
       "    <tr style=\"text-align: right;\">\n",
       "      <th></th>\n",
       "      <th>duration_min</th>\n",
       "      <th>trip_distance</th>\n",
       "      <th>trip_distance</th>\n",
       "      <th>trip_distance</th>\n",
       "    </tr>\n",
       "  </thead>\n",
       "  <tbody>\n",
       "    <tr>\n",
       "      <th>count</th>\n",
       "      <td>30923763.0000</td>\n",
       "      <td>30923763.0000</td>\n",
       "      <td>30923763.0000</td>\n",
       "      <td>30923763.0000</td>\n",
       "    </tr>\n",
       "    <tr>\n",
       "      <th>mean</th>\n",
       "      <td>20.9923</td>\n",
       "      <td>5.1996</td>\n",
       "      <td>5.1996</td>\n",
       "      <td>5.1996</td>\n",
       "    </tr>\n",
       "    <tr>\n",
       "      <th>std</th>\n",
       "      <td>16.0846</td>\n",
       "      <td>6.1308</td>\n",
       "      <td>6.1308</td>\n",
       "      <td>6.1308</td>\n",
       "    </tr>\n",
       "    <tr>\n",
       "      <th>min</th>\n",
       "      <td>0.0000</td>\n",
       "      <td>0.0000</td>\n",
       "      <td>0.0000</td>\n",
       "      <td>0.0000</td>\n",
       "    </tr>\n",
       "    <tr>\n",
       "      <th>25%</th>\n",
       "      <td>10.8500</td>\n",
       "      <td>1.6900</td>\n",
       "      <td>1.6900</td>\n",
       "      <td>1.6900</td>\n",
       "    </tr>\n",
       "    <tr>\n",
       "      <th>50%</th>\n",
       "      <td>17.2333</td>\n",
       "      <td>3.0900</td>\n",
       "      <td>3.0900</td>\n",
       "      <td>3.0900</td>\n",
       "    </tr>\n",
       "    <tr>\n",
       "      <th>75%</th>\n",
       "      <td>26.6833</td>\n",
       "      <td>6.2300</td>\n",
       "      <td>6.2300</td>\n",
       "      <td>6.2300</td>\n",
       "    </tr>\n",
       "    <tr>\n",
       "      <th>max</th>\n",
       "      <td>959.3000</td>\n",
       "      <td>568.5700</td>\n",
       "      <td>568.5700</td>\n",
       "      <td>568.5700</td>\n",
       "    </tr>\n",
       "  </tbody>\n",
       "</table>\n",
       "</div>"
      ],
      "text/plain": [
       "       duration_min  trip_distance  trip_distance  trip_distance\n",
       "count 30923763.0000  30923763.0000  30923763.0000  30923763.0000\n",
       "mean        20.9923         5.1996         5.1996         5.1996\n",
       "std         16.0846         6.1308         6.1308         6.1308\n",
       "min          0.0000         0.0000         0.0000         0.0000\n",
       "25%         10.8500         1.6900         1.6900         1.6900\n",
       "50%         17.2333         3.0900         3.0900         3.0900\n",
       "75%         26.6833         6.2300         6.2300         6.2300\n",
       "max        959.3000       568.5700       568.5700       568.5700"
      ]
     },
     "execution_count": 63,
     "metadata": {},
     "output_type": "execute_result"
    }
   ],
   "source": [
    "df_viz[[\"duration_min\",\"trip_distance\",\"trip_distance\",\"trip_distance\"]].describe()"
   ]
  },
  {
   "cell_type": "code",
   "execution_count": 66,
   "id": "2be7ec6c",
   "metadata": {},
   "outputs": [
    {
     "data": {
      "text/plain": [
       "3368404"
      ]
     },
     "execution_count": 66,
     "metadata": {},
     "output_type": "execute_result"
    }
   ],
   "source": [
    "len(df_viz[(df_viz.month==8)&(df_viz.year==2015)])"
   ]
  },
  {
   "cell_type": "code",
   "execution_count": 67,
   "id": "831fc290",
   "metadata": {},
   "outputs": [],
   "source": [
    "import matplotlib.mlab as mlab"
   ]
  },
  {
   "cell_type": "code",
   "execution_count": 68,
   "id": "31738cc3",
   "metadata": {},
   "outputs": [
    {
     "name": "stdout",
     "output_type": "stream",
     "text": [
      "Requirement already satisfied: plotly in c:\\programdata\\anaconda3\\lib\\site-packages (5.7.0)"
     ]
    },
    {
     "name": "stderr",
     "output_type": "stream",
     "text": [
      "WARNING: Ignoring invalid distribution -umpy (c:\\programdata\\anaconda3\\lib\\site-packages)\n",
      "WARNING: Ignoring invalid distribution - (c:\\programdata\\anaconda3\\lib\\site-packages)\n",
      "WARNING: Ignoring invalid distribution -cikit-learn (c:\\programdata\\anaconda3\\lib\\site-packages)\n",
      "WARNING: Ignoring invalid distribution -umpy (c:\\programdata\\anaconda3\\lib\\site-packages)\n",
      "WARNING: Ignoring invalid distribution - (c:\\programdata\\anaconda3\\lib\\site-packages)\n",
      "WARNING: Ignoring invalid distribution -cikit-learn (c:\\programdata\\anaconda3\\lib\\site-packages)\n",
      "ERROR: Could not find a version that satisfies the requirement as (from versions: none)\n",
      "ERROR: No matching distribution found for as\n",
      "WARNING: Ignoring invalid distribution -umpy (c:\\programdata\\anaconda3\\lib\\site-packages)\n",
      "WARNING: Ignoring invalid distribution - (c:\\programdata\\anaconda3\\lib\\site-packages)\n",
      "WARNING: Ignoring invalid distribution -cikit-learn (c:\\programdata\\anaconda3\\lib\\site-packages)\n",
      "WARNING: Ignoring invalid distribution -umpy (c:\\programdata\\anaconda3\\lib\\site-packages)\n",
      "WARNING: Ignoring invalid distribution - (c:\\programdata\\anaconda3\\lib\\site-packages)\n",
      "WARNING: Ignoring invalid distribution -cikit-learn (c:\\programdata\\anaconda3\\lib\\site-packages)\n",
      "WARNING: Ignoring invalid distribution -umpy (c:\\programdata\\anaconda3\\lib\\site-packages)\n",
      "WARNING: Ignoring invalid distribution - (c:\\programdata\\anaconda3\\lib\\site-packages)\n",
      "WARNING: Ignoring invalid distribution -cikit-learn (c:\\programdata\\anaconda3\\lib\\site-packages)\n"
     ]
    },
    {
     "name": "stdout",
     "output_type": "stream",
     "text": [
      "\n"
     ]
    }
   ],
   "source": [
    "!pip install plotly as py"
   ]
  },
  {
   "cell_type": "code",
   "execution_count": 69,
   "id": "37521c56",
   "metadata": {},
   "outputs": [
    {
     "name": "stdout",
     "output_type": "stream",
     "text": [
      "Requirement already satisfied: chart_studio in c:\\programdata\\anaconda3\\lib\\site-packages (1.1.0)\n",
      "Requirement already satisfied: retrying>=1.3.3 in c:\\programdata\\anaconda3\\lib\\site-packages (from chart_studio) (1.3.3)\n",
      "Requirement already satisfied: requests in c:\\programdata\\anaconda3\\lib\\site-packages (from chart_studio) (2.26.0)\n",
      "Requirement already satisfied: six in c:\\programdata\\anaconda3\\lib\\site-packages (from chart_studio) (1.15.0)\n",
      "Requirement already satisfied: plotly in c:\\programdata\\anaconda3\\lib\\site-packages (from chart_studio) (5.7.0)\n",
      "Requirement already satisfied: tenacity>=6.2.0 in c:\\programdata\\anaconda3\\lib\\site-packages (from plotly->chart_studio) (8.0.1)\n",
      "Requirement already satisfied: urllib3<1.27,>=1.21.1 in c:\\programdata\\anaconda3\\lib\\site-packages (from requests->chart_studio) (1.26.7)\n",
      "Requirement already satisfied: idna<4,>=2.5 in c:\\programdata\\anaconda3\\lib\\site-packages (from requests->chart_studio) (3.2)\n",
      "Requirement already satisfied: charset-normalizer~=2.0.0 in c:\\programdata\\anaconda3\\lib\\site-packages (from requests->chart_studio) (2.0.4)\n",
      "Requirement already satisfied: certifi>=2017.4.17 in c:\\programdata\\anaconda3\\lib\\site-packages (from requests->chart_studio) (2021.10.8)\n"
     ]
    },
    {
     "name": "stderr",
     "output_type": "stream",
     "text": [
      "WARNING: Ignoring invalid distribution -umpy (c:\\programdata\\anaconda3\\lib\\site-packages)\n",
      "WARNING: Ignoring invalid distribution - (c:\\programdata\\anaconda3\\lib\\site-packages)\n",
      "WARNING: Ignoring invalid distribution -cikit-learn (c:\\programdata\\anaconda3\\lib\\site-packages)\n",
      "WARNING: Ignoring invalid distribution -umpy (c:\\programdata\\anaconda3\\lib\\site-packages)\n",
      "WARNING: Ignoring invalid distribution - (c:\\programdata\\anaconda3\\lib\\site-packages)\n",
      "WARNING: Ignoring invalid distribution -cikit-learn (c:\\programdata\\anaconda3\\lib\\site-packages)\n",
      "WARNING: Ignoring invalid distribution -umpy (c:\\programdata\\anaconda3\\lib\\site-packages)\n",
      "WARNING: Ignoring invalid distribution - (c:\\programdata\\anaconda3\\lib\\site-packages)\n",
      "WARNING: Ignoring invalid distribution -cikit-learn (c:\\programdata\\anaconda3\\lib\\site-packages)\n",
      "WARNING: Ignoring invalid distribution -umpy (c:\\programdata\\anaconda3\\lib\\site-packages)\n",
      "WARNING: Ignoring invalid distribution - (c:\\programdata\\anaconda3\\lib\\site-packages)\n",
      "WARNING: Ignoring invalid distribution -cikit-learn (c:\\programdata\\anaconda3\\lib\\site-packages)\n",
      "WARNING: Ignoring invalid distribution -umpy (c:\\programdata\\anaconda3\\lib\\site-packages)\n",
      "WARNING: Ignoring invalid distribution - (c:\\programdata\\anaconda3\\lib\\site-packages)\n",
      "WARNING: Ignoring invalid distribution -cikit-learn (c:\\programdata\\anaconda3\\lib\\site-packages)\n",
      "WARNING: Ignoring invalid distribution -umpy (c:\\programdata\\anaconda3\\lib\\site-packages)\n",
      "WARNING: Ignoring invalid distribution - (c:\\programdata\\anaconda3\\lib\\site-packages)\n",
      "WARNING: Ignoring invalid distribution -cikit-learn (c:\\programdata\\anaconda3\\lib\\site-packages)\n"
     ]
    }
   ],
   "source": [
    "!pip install chart_studio"
   ]
  },
  {
   "cell_type": "code",
   "execution_count": 70,
   "id": "6a54bef5",
   "metadata": {},
   "outputs": [],
   "source": [
    "import chart_studio.plotly as py"
   ]
  },
  {
   "cell_type": "code",
   "execution_count": 75,
   "id": "b3d0d59a",
   "metadata": {},
   "outputs": [],
   "source": [
    "from matplotlib.ticker import FuncFormatter #Call formatter function to format tick values\n",
    "from matplotlib.offsetbox import (OffsetImage, AnnotationBbox) #Create image box\n",
    "from matplotlib.patches import Ellipse #Draw ellips"
   ]
  },
  {
   "cell_type": "markdown",
   "id": "045e0f0c",
   "metadata": {},
   "source": [
    "# Creating functions for formating tick numbers"
   ]
  },
  {
   "cell_type": "code",
   "execution_count": 76,
   "id": "331e04f5",
   "metadata": {},
   "outputs": [],
   "source": [
    "def thousand_comma(x,pos):\n",
    "    return '{:,.0f}'.format(x)"
   ]
  },
  {
   "cell_type": "code",
   "execution_count": 78,
   "id": "59d9971a",
   "metadata": {},
   "outputs": [],
   "source": [
    "def thousand_format(x,pos):\n",
    "    return '{:,.0f}'.format(x * 1e-3,'K')"
   ]
  },
  {
   "cell_type": "code",
   "execution_count": 170,
   "id": "7d657f8b",
   "metadata": {},
   "outputs": [],
   "source": [
    "def million_format(x,pos):\n",
    "    return '{:,.1f}'.format(x*1e-6,'M')"
   ]
  },
  {
   "cell_type": "code",
   "execution_count": 171,
   "id": "b4c5801b",
   "metadata": {},
   "outputs": [],
   "source": [
    "def millions_currency(x,pos):\n",
    "    return '{}{:,.0f}{}'.format('$',x*1e-6,'M')"
   ]
  },
  {
   "cell_type": "code",
   "execution_count": 82,
   "id": "8f1de1fe",
   "metadata": {},
   "outputs": [],
   "source": [
    "def annotate_labels(ax, labels_list, **kwargs):\n",
    "    \n",
    "    (y_bottom, y_top) = ax.get_ylim()\n",
    "    y_height = y_top - y_bottom\n",
    "    \n",
    "    rects = ax.patches\n",
    "\n",
    "    for rect, label in zip(rects, labels_list):\n",
    "        height = rect.get_height()\n",
    "        p_height = (height / y_height) \n",
    "        label_position = height + (y_height * 0.01)\n",
    "        \n",
    "        ax.text(rect.get_x() + rect.get_width()/2., label_position, label, kwargs)\n",
    "    return None"
   ]
  },
  {
   "cell_type": "markdown",
   "id": "e605b13b",
   "metadata": {},
   "source": [
    "# Number of Uber trips per day."
   ]
  },
  {
   "cell_type": "code",
   "execution_count": 83,
   "id": "02342dff",
   "metadata": {},
   "outputs": [],
   "source": [
    "bydate= df_viz.groupby('pu_date')['id'].count()"
   ]
  },
  {
   "cell_type": "code",
   "execution_count": 84,
   "id": "aebba4f3",
   "metadata": {},
   "outputs": [
    {
     "data": {
      "text/plain": [
       "pu_date\n",
       "2014-09-01    31592\n",
       "2014-09-02    41496\n",
       "2014-09-03    46339\n",
       "2014-09-04    53402\n",
       "2014-09-05    59718\n",
       "Name: id, dtype: int64"
      ]
     },
     "execution_count": 84,
     "metadata": {},
     "output_type": "execute_result"
    }
   ],
   "source": [
    "bydate.head()"
   ]
  },
  {
   "cell_type": "code",
   "execution_count": 86,
   "id": "8488bf5f",
   "metadata": {},
   "outputs": [
    {
     "data": {
      "text/plain": [
       "pu_date\n",
       "2014-10-28     52084\n",
       "2014-10-29     61082\n",
       "2014-10-30     66369\n",
       "2014-10-31     71787\n",
       "2014-11-01    104450\n",
       "2014-11-02     57289\n",
       "2014-11-03     50491\n",
       "2014-11-04     52395\n",
       "2014-11-05     61518\n",
       "Name: id, dtype: int64"
      ]
     },
     "execution_count": 86,
     "metadata": {},
     "output_type": "execute_result"
    }
   ],
   "source": [
    "bydate['2014-10-28': '2014-11-05']"
   ]
  },
  {
   "cell_type": "code",
   "execution_count": 88,
   "id": "d0e3a5d9",
   "metadata": {},
   "outputs": [
    {
     "data": {
      "text/plain": [
       "107630.82608695653"
      ]
     },
     "execution_count": 88,
     "metadata": {},
     "output_type": "execute_result"
    }
   ],
   "source": [
    "bydate['2015-06-01': '2015-08-31'].mean()"
   ]
  },
  {
   "cell_type": "code",
   "execution_count": 89,
   "id": "f70f4bec",
   "metadata": {},
   "outputs": [
    {
     "data": {
      "text/plain": [
       "Text(0.5, 0, '')"
      ]
     },
     "execution_count": 89,
     "metadata": {},
     "output_type": "execute_result"
    },
    {
     "data": {
      "image/png": "[encoded data removed]",
      "text/plain": [
       "<Figure size 1152x576 with 1 Axes>"
      ]
     },
     "metadata": {},
     "output_type": "display_data"
    }
   ],
   "source": [
    "fig=plt.figure()\n",
    "ax=bydate.plot(figsize=(16,8),fontsize=12,ylim = (10000,170000), color='navy')\n",
    "formatter= FuncFormatter(thousand_format)\n",
    "ax.yaxis.set_major_formatter(formatter)\n",
    "plt.title('Total Trips per Day', fontsize= 20, color='navy')\n",
    "plt.tick_params(labelsize=14)\n",
    "plt.xlabel('')"
   ]
  },
  {
   "cell_type": "markdown",
   "id": "4dbef79d",
   "metadata": {},
   "source": [
    "# The effect of time on demand for Uber rides: distribution per hour, weekday, and month."
   ]
  },
  {
   "cell_type": "code",
   "execution_count": 92,
   "id": "f5f3f9ca",
   "metadata": {},
   "outputs": [],
   "source": [
    "weekday_labels = ['Monday', 'Tuesday', 'Wednesday', 'Thursday', 'Friday', 'Saturday', 'Sunday']\n",
    "month_labels = ['Sep', 'Oct', 'Nov', 'Dec', 'Jan', 'Feb', 'Mar', 'Apr', 'May', 'Jun', 'Jul', 'Aug']"
   ]
  },
  {
   "cell_type": "code",
   "execution_count": 105,
   "id": "bde77a88",
   "metadata": {},
   "outputs": [
    {
     "name": "stderr",
     "output_type": "stream",
     "text": [
      "C:\\ProgramData\\Anaconda3\\lib\\site-packages\\seaborn\\_decorators.py:36: FutureWarning: Pass the following variable as a keyword arg: x. From version 0.12, the only valid positional argument will be `data`, and passing other arguments without an explicit keyword will result in an error or misinterpretation.\n",
      "  warnings.warn(\n"
     ]
    },
    {
     "data": {
      "image/png": "[encoded data removed]",
      "text/plain": [
       "<Figure size 1080x1152 with 1 Axes>"
      ]
     },
     "metadata": {},
     "output_type": "display_data"
    }
   ],
   "source": [
    "fig= plt.figure(figsize=(15,16))\n",
    "formatter=FuncFormatter(million_format)\n",
    "\n",
    "plt.subplot(3,1,1)\n",
    "ax1= sns.countplot(df_viz.hour,order = range(24))\n",
    "ax1.yaxis.set_major_formatter(formatter)\n",
    "plt.tick_params(labelsize=13)\n",
    "plt.title('Total Number of Trips Between 9/1/2014 and 8/31/2015', fontsize=17, color='navy')\n",
    "plt.xlabel('Hour',fontsize=13)\n",
    "plt.show()"
   ]
  },
  {
   "cell_type": "code",
   "execution_count": 106,
   "id": "23cc7d70",
   "metadata": {},
   "outputs": [
    {
     "name": "stderr",
     "output_type": "stream",
     "text": [
      "C:\\ProgramData\\Anaconda3\\lib\\site-packages\\seaborn\\_decorators.py:36: FutureWarning: Pass the following variable as a keyword arg: x. From version 0.12, the only valid positional argument will be `data`, and passing other arguments without an explicit keyword will result in an error or misinterpretation.\n",
      "  warnings.warn(\n"
     ]
    },
    {
     "data": {
      "image/png": "[encoded data removed]",
      "text/plain": [
       "<Figure size 1080x1152 with 1 Axes>"
      ]
     },
     "metadata": {},
     "output_type": "display_data"
    }
   ],
   "source": [
    "fig= plt.figure(figsize=(15,16))\n",
    "formatter=FuncFormatter(million_format)\n",
    "plt.subplot(3,1,2)\n",
    "ax2=sns.countplot(df_viz.weekday,order=range(7))\n",
    "ax2.set_xticklabels(weekday_labels)\n",
    "ax2.yaxis.set_major_formatter(formatter)\n",
    "plt.tick_params(labelsize=13)\n",
    "plt.xlabel('')\n",
    "plt.show()"
   ]
  },
  {
   "cell_type": "code",
   "execution_count": 107,
   "id": "45ff6c61",
   "metadata": {},
   "outputs": [
    {
     "name": "stderr",
     "output_type": "stream",
     "text": [
      "C:\\ProgramData\\Anaconda3\\lib\\site-packages\\seaborn\\_decorators.py:36: FutureWarning: Pass the following variable as a keyword arg: x. From version 0.12, the only valid positional argument will be `data`, and passing other arguments without an explicit keyword will result in an error or misinterpretation.\n",
      "  warnings.warn(\n"
     ]
    },
    {
     "data": {
      "image/png": "[encoded data removed]",
      "text/plain": [
       "<Figure size 1080x1152 with 1 Axes>"
      ]
     },
     "metadata": {},
     "output_type": "display_data"
    }
   ],
   "source": [
    "fig= plt.figure(figsize=(15,16))\n",
    "formatter=FuncFormatter(million_format)\n",
    "plt.subplot(3,1,3) \n",
    "ax3 = sns.countplot(df_viz.month)\n",
    "ax3.set_xticklabels(month_labels)\n",
    "ax3.yaxis.set_major_formatter(formatter)\n",
    "plt.tick_params(labelsize=13)\n",
    "plt.xlabel('')\n",
    "plt.show()"
   ]
  },
  {
   "cell_type": "markdown",
   "id": "c8095660",
   "metadata": {},
   "source": [
    "# Estimated Monthly Base Revenue"
   ]
  },
  {
   "cell_type": "code",
   "execution_count": 108,
   "id": "bda70fa4",
   "metadata": {},
   "outputs": [],
   "source": [
    "bydaterev=df_viz.groupby('month')['est_revenue'].sum()"
   ]
  },
  {
   "cell_type": "code",
   "execution_count": 110,
   "id": "11a51d91",
   "metadata": {},
   "outputs": [
    {
     "name": "stdout",
     "output_type": "stream",
     "text": [
      "$595M Base Revenue   Uber's Base Gross Margin: $148,757,755\n"
     ]
    }
   ],
   "source": [
    "sumrev=bydaterev.sum()\n",
    "print ('${:,.0f}M'.format(sumrev * 1e-6), \"Base Revenue   Uber's Base Gross Margin:\", '${:,.0f}'.format(sumrev * .25))"
   ]
  },
  {
   "cell_type": "code",
   "execution_count": 111,
   "id": "56c55394",
   "metadata": {},
   "outputs": [
    {
     "data": {
      "text/plain": [
       "208735400.25"
      ]
     },
     "execution_count": 111,
     "metadata": {},
     "output_type": "execute_result"
    }
   ],
   "source": [
    "#Estimated base gross margin based on information that average UberX fare in Sep 2014 was $27 (but it has dropped):\n",
    "len(df_viz) * 27 * .25"
   ]
  },
  {
   "cell_type": "code",
   "execution_count": 112,
   "id": "2489ffdf",
   "metadata": {},
   "outputs": [
    {
     "data": {
      "text/plain": [
       "month\n",
       "1   41457151.3925\n",
       "2   47252851.6517\n",
       "3   52154385.1658\n",
       "4   54095066.2220\n",
       "5   61539912.0576\n",
       "Name: est_revenue, dtype: float64"
      ]
     },
     "execution_count": 112,
     "metadata": {},
     "output_type": "execute_result"
    }
   ],
   "source": [
    "bydaterev.head()"
   ]
  },
  {
   "cell_type": "code",
   "execution_count": 121,
   "id": "a497af17",
   "metadata": {},
   "outputs": [
    {
     "name": "stderr",
     "output_type": "stream",
     "text": [
      "C:\\ProgramData\\Anaconda3\\lib\\site-packages\\seaborn\\_decorators.py:36: FutureWarning: Pass the following variables as keyword args: x, y. From version 0.12, the only valid positional argument will be `data`, and passing other arguments without an explicit keyword will result in an error or misinterpretation.\n",
      "  warnings.warn(\n"
     ]
    },
    {
     "data": {
      "image/png": "[encoded data removed]",
      "text/plain": [
       "<Figure size 1008x504 with 1 Axes>"
      ]
     },
     "metadata": {},
     "output_type": "display_data"
    }
   ],
   "source": [
    "months_seq=[9,10,11,12,1,2,3,4,5,6,7,8]\n",
    "formatter=FuncFormatter(millions_currency)\n",
    "\n",
    "plt.figure(figsize=(14,7))\n",
    "ax=sns.barplot(bydaterev.index,bydaterev.values,order=months_seq)\n",
    "ax.set_xticklabels(month_labels)\n",
    "ax.yaxis.set_major_formatter(formatter)\n",
    "\n",
    "font={'color':'navy','size':15}\n",
    "plt.text(0, 55000000, 'Total Base Revenue for the Period: ${:,.0f} Million'.format(sumrev * 1e-6),fontdict = font)\n",
    "plt.xlabel('')\n",
    "plt.ylabel('Revenue (Millions)',fontsize=15)\n",
    "plt.tick_params(labelsize=13)\n",
    "plt.title('Estimated Monthly Base Revenue from Sep-2014 to Aug-2015', fontsize = 17, color='navy')\n",
    "\n",
    "plt.show()"
   ]
  },
  {
   "cell_type": "code",
   "execution_count": 122,
   "id": "ffe9b824",
   "metadata": {},
   "outputs": [
    {
     "data": {
      "text/plain": [
       "19.241869694747738"
      ]
     },
     "execution_count": 122,
     "metadata": {},
     "output_type": "execute_result"
    }
   ],
   "source": [
    "df_viz.est_revenue.mean()"
   ]
  },
  {
   "cell_type": "code",
   "execution_count": 124,
   "id": "bb90d27b",
   "metadata": {},
   "outputs": [
    {
     "data": {
      "text/plain": [
       "21565512.055648196"
      ]
     },
     "execution_count": 124,
     "metadata": {},
     "output_type": "execute_result"
    }
   ],
   "source": [
    "#Rough estimate of revenue share from Uber Pool from 12/1/2014 to 8/31/2015 (total of 25,634,526 trips):\n",
    "rev=df_viz[(df_viz.pu_date >=datetime.datetime(2014,12,1)) & (df_viz.pu_date <=datetime.datetime(2015,8,31))].est_revenue.mean()\n",
    "u_pool=rev * 0.75 * 1500000\n",
    "u_pool"
   ]
  },
  {
   "cell_type": "code",
   "execution_count": 125,
   "id": "a6eba72c",
   "metadata": {},
   "outputs": [
    {
     "data": {
      "text/plain": [
       "0.04388612451814645"
      ]
     },
     "execution_count": 125,
     "metadata": {},
     "output_type": "execute_result"
    }
   ],
   "source": [
    "u_pool/df_viz[(df_viz.pu_date >= datetime.datetime(2014, 12, 1)) & (df_viz.pu_date <= datetime.datetime(2015, 8, 31))].est_revenue.sum() #Uber Pool represented only about 4% of the total revenue for the period between Dec/14 and Aug/15."
   ]
  },
  {
   "cell_type": "markdown",
   "id": "98db67cc",
   "metadata": {},
   "source": [
    "# Month Base Revenue Growth"
   ]
  },
  {
   "cell_type": "code",
   "execution_count": 129,
   "id": "2d2e9077",
   "metadata": {},
   "outputs": [
    {
     "name": "stdout",
     "output_type": "stream",
     "text": [
      "Sep Revenue = $29,932,282 Growth % =  0.0\n",
      "Oct Revenue = $35,531,001 Growth % =  18.7\n",
      "Nov Revenue = $38,170,687 Growth % =  7.4\n",
      "Dec Revenue = $41,661,569 Growth % =  9.1\n",
      "Jan Revenue = $41,457,151 Growth % =  -0.5\n",
      "Feb Revenue = $47,252,852 Growth % =  14.0\n",
      "Mar Revenue = $52,154,385 Growth % =  10.4\n",
      "Apr Revenue = $54,095,066 Growth % =  3.7\n",
      "May Revenue = $61,539,912 Growth % =  13.8\n",
      "Jun Revenue = $63,667,666 Growth % =  3.5\n",
      "Jul Revenue = $63,607,348 Growth % =  -0.1\n",
      "Aug Revenue = $65,961,099 Growth % =  3.7\n"
     ]
    }
   ],
   "source": [
    "dict_growth={}\n",
    "for i in range(len(months_seq)):\n",
    "    mo=months_seq[i]\n",
    "    rev=bydaterev[mo]\n",
    "    if mo==9:\n",
    "        growth_pct=0\n",
    "    elif mo==1:\n",
    "        growth_pct=((rev/bydaterev[12]) - 1) * 100\n",
    "    else:\n",
    "        growth_pct=((rev/bydaterev[mo - 1]) - 1) * 100\n",
    "    print (month_labels[i], 'Revenue =', '${:,.0f}'.format(rev), 'Growth % = ', '{:.1f}'.format(growth_pct))\n",
    "    dict_growth[month_labels[i]] = growth_pct"
   ]
  },
  {
   "cell_type": "code",
   "execution_count": 136,
   "id": "b711cc6d",
   "metadata": {},
   "outputs": [
    {
     "data": {
      "image/png": "[encoded data removed]",
      "text/plain": [
       "<Figure size 1080x504 with 1 Axes>"
      ]
     },
     "metadata": {},
     "output_type": "display_data"
    }
   ],
   "source": [
    "df_plt1=pd.DataFrame(pd.Series(dict_growth),index=month_labels,columns=['growth_pct'])\n",
    "labels_list=df_plt1.growth_pct.values.round(1)\n",
    "kwargs={'fontsize':12, 'ha':'center','va':'bottom','weight':'bold','color':'navy'}\n",
    "ax = df_plt1.plot(kind = 'bar', figsize = (15,7), fontsize = 14, rot = 0, legend=False)\n",
    "ax.get_yaxis().set_ticks([])\n",
    "annotate_labels(ax,labels_list,**kwargs)\n",
    "\n",
    "plt.axhline(0,color='yellow')\n",
    "plt.title('Month Over Month Percentage Growth of Base Revenue From September 2014',fontsize = 17, color='navy')\n",
    "plt.ylabel('Growth %',fontsize=15,weight='bold',color='navy')\n",
    "plt.ylim(-2,22)\n",
    "plt.tick_params(labelsize=15)\n",
    "plt.show()"
   ]
  },
  {
   "cell_type": "code",
   "execution_count": 137,
   "id": "488e50a4",
   "metadata": {},
   "outputs": [
    {
     "name": "stdout",
     "output_type": "stream",
     "text": [
      "Cummulative % Growth Over Period:\n"
     ]
    },
    {
     "data": {
      "image/png": "[encoded data removed]",
      "text/plain": [
       "<Figure size 1152x432 with 1 Axes>"
      ]
     },
     "metadata": {},
     "output_type": "display_data"
    }
   ],
   "source": [
    "print('Cummulative % Growth Over Period:'),df_plt1.growth_pct.sum()\n",
    "df_plt1.cumsum().plot(color = 'navy', marker = 'D', legend = False, figsize=(16, 6))\n",
    "plt.title('Cummulative Revenue Growth Percentage from September 2014', fontsize=17, weight='bold', color='navy')\n",
    "plt.tick_params(labelsize=14)\n",
    "plt.show()"
   ]
  },
  {
   "cell_type": "markdown",
   "id": "ae92fd86",
   "metadata": {},
   "source": [
    "# Which day of the week has the worst (slowest) traffic overall?"
   ]
  },
  {
   "cell_type": "code",
   "execution_count": 138,
   "id": "733aa2b1",
   "metadata": {},
   "outputs": [],
   "source": [
    "df_plt2=df_viz.groupby('weekday')['trip_mph_avg'].median()            "
   ]
  },
  {
   "cell_type": "code",
   "execution_count": 140,
   "id": "36f4e66b",
   "metadata": {},
   "outputs": [
    {
     "data": {
      "image/png": "[encoded data removed]",
      "text/plain": [
       "<Figure size 864x432 with 1 Axes>"
      ]
     },
     "metadata": {},
     "output_type": "display_data"
    }
   ],
   "source": [
    "fig=plt.figure()\n",
    "labels_list=df_plt2.round(1)\n",
    "kwargs={'fontsize':12,'ha':'center','va':'bottom','weight':'bold','color':'navy'}\n",
    "ax=df_plt2.plot(kind='bar',rot=0,figsize=(12,6),fontsize=12,edgecolor='yellow',linewidth=1)\n",
    "ax.set_xticklabels(weekday_labels,weight='bold')\n",
    "\n",
    "ax.get_yaxis().set_ticks([])\n",
    "annotate_labels(ax,labels_list, **kwargs)\n",
    "\n",
    "plt.xlabel('')\n",
    "plt.ylabel('Median Trip Speed (mph)', fontsize = 14)\n",
    "plt.tick_params(labelsize=14)\n",
    "plt.title('Which day of the week has the worst traffic?', fontsize = 18, color='navy')\n",
    "plt.show()"
   ]
  },
  {
   "cell_type": "markdown",
   "id": "0265a5c6",
   "metadata": {},
   "source": [
    "# What is the median distance traveled per trip?"
   ]
  },
  {
   "cell_type": "code",
   "execution_count": 141,
   "id": "8351ecc9",
   "metadata": {},
   "outputs": [
    {
     "data": {
      "image/png": "[encoded data removed]",
      "text/plain": [
       "<Figure size 1152x432 with 2 Axes>"
      ]
     },
     "metadata": {},
     "output_type": "display_data"
    }
   ],
   "source": [
    "plt.figure(figsize=(16,6))\n",
    "plt.subplot(1,2,1)\n",
    "df_viz[(df_viz.weekday >=5)].groupby('hour')['trip_distance'].median().plot(kind='bar', rot=0,fontsize=14)\n",
    "plt.ylim(0,9)\n",
    "plt.tick_params(labelsize=12)\n",
    "plt.ylabel('Median Trip Distance (miles)', fontsize=14, weight='bold', color='navy')\n",
    "plt.xlabel('Hour', fontsize=14, weight='bold', color='navy')\n",
    "plt.title('Weekend', fontsize=14, weight='bold', color='navy')\n",
    "\n",
    "plt.subplot(1,2,2)\n",
    "df_viz[df_viz.weekday < 5].groupby('hour')['trip_distance'].median().plot(kind='bar', rot = 0)\n",
    "plt.tick_params(labelsize=12)\n",
    "plt.xlabel('Hour', fontsize=14, weight='bold', color='navy')\n",
    "plt.title('Weekdays', fontsize=14, weight='bold', color='navy')\n",
    "\n",
    "plt.show()"
   ]
  },
  {
   "cell_type": "code",
   "execution_count": 142,
   "id": "6ffdc592",
   "metadata": {},
   "outputs": [
    {
     "data": {
      "image/png": "[encoded data removed]",
      "text/plain": [
       "<Figure size 1152x864 with 4 Axes>"
      ]
     },
     "metadata": {},
     "output_type": "display_data"
    }
   ],
   "source": [
    "#Create plot similar to the above but with the count of trips per hour, comparing weekday vs weekend and \n",
    "#distances >=5 versus < 5 miles. Indeed, the plots show that there is a higher demand for trips that go beyond \n",
    "\n",
    "fig=plt.figure(figsize=(16,12))\n",
    "formatter=FuncFormatter(thousand_format)\n",
    "\n",
    "plt.subplot(2,2,1)\n",
    "ax1=df_viz[(df_viz.weekday<5) & (df_viz.trip_distance >=5)].\\\n",
    "groupby('hour')['trip_distance'].count().plot(kind='bar', rot=0)\n",
    "ax1.yaxis.set_major_formatter(formatter)\n",
    "ellipse = Ellipse(xy=(5, 150000), width=4, height=200000, edgecolor='red', fc='None', lw=1.5)\n",
    "ax1.add_patch(ellipse)\n",
    "plt.xlabel('Hour', fontsize=14, weight='bold', color='navy')\n",
    "plt.ylabel('Demand (number of trips)', fontsize=14, weight='bold', color='navy')\n",
    "plt.ylim(0, 1400000)\n",
    "plt.title('Weekday, 5 miles or more', fontsize=14, weight='bold', color='navy')\n",
    "\n",
    "plt.subplot(2,2,2)\n",
    "ax2 = df_viz[(df_viz.weekday < 5) & (df_viz.trip_distance < 5)].\\\n",
    "groupby('hour')['trip_distance'].count().plot(kind='bar', rot = 0)\n",
    "ax2.yaxis.set_major_formatter(formatter)\n",
    "ellipse = Ellipse(xy=(5, 150000), width=4, height=200000, edgecolor='red', fc='None', lw=1.5)\n",
    "ax2.add_patch(ellipse)\n",
    "plt.xlabel('Hour', fontsize=14, weight='bold', color='navy')\n",
    "plt.title('Weekday, less than 5 miles', fontsize=14, weight='bold', color='navy')\n",
    "\n",
    "plt.subplot(2,2,3)\n",
    "ax3 = df_viz[(df_viz.weekday >= 5) & (df_viz.trip_distance >= 5)].\\\n",
    "groupby('hour')['trip_distance'].count().plot(kind='bar', rot = 0)\n",
    "ax3.yaxis.set_major_formatter(formatter)\n",
    "ellipse = Ellipse(xy=(6.5, 50000), width=4, height=80000, edgecolor='red', fc='None', lw=1.5)\n",
    "ax3.add_patch(ellipse)\n",
    "plt.xlabel('Hour', fontsize=14, weight='bold', color='navy')\n",
    "plt.ylabel('Demand (number of trips)', fontsize=14, weight='bold', color='navy')\n",
    "plt.ylim(0, 500000)\n",
    "plt.title('Weekend, 5 miles or more', fontsize=14, weight='bold', color='navy')\n",
    "\n",
    "plt.subplot(2,2,4)\n",
    "ax4 = df_viz[(df_viz.weekday >= 5) & (df_viz.trip_distance < 5)].\\\n",
    "groupby('hour')['trip_distance'].count().plot(kind='bar', rot = 0)\n",
    "ax4.yaxis.set_major_formatter(formatter)\n",
    "ellipse = Ellipse(xy=(6.5, 50000), width=4, height=80000, edgecolor='red', fc='None', lw=1.5)\n",
    "ax4.add_patch(ellipse)\n",
    "plt.xlabel('Hour', fontsize=14, weight='bold', color='navy')\n",
    "plt.title('Weekend, less than 5 miles', fontsize=14, weight='bold', color='navy')\n",
    "\n",
    "\n",
    "fig.subplots_adjust(hspace=0.4)\n",
    "plt.show()"
   ]
  },
  {
   "cell_type": "markdown",
   "id": "91ef11ad",
   "metadata": {},
   "source": [
    "# What are the most popular pickup and drop-off taxi zones?"
   ]
  },
  {
   "cell_type": "code",
   "execution_count": 143,
   "id": "1f3b4af2",
   "metadata": {},
   "outputs": [
    {
     "name": "stdout",
     "output_type": "stream",
     "text": [
      "0.43922264570453473\n",
      "0.41584985632479493\n"
     ]
    }
   ],
   "source": [
    "print (df_viz.origin_taz.value_counts().head(5).sum()/float(len(df_viz)))\n",
    "print (df_viz.destination_taz.value_counts().head(5).sum()/float(len(df_viz[df_viz.destination_taz.isnull() == False])))"
   ]
  },
  {
   "cell_type": "code",
   "execution_count": 144,
   "id": "85a2207d",
   "metadata": {},
   "outputs": [
    {
     "data": {
      "text/plain": [
       "6231353"
      ]
     },
     "execution_count": 144,
     "metadata": {},
     "output_type": "execute_result"
    }
   ],
   "source": [
    "len(df_viz[(df_viz.origin_taz.isin(['2A', '15', '4C', '1', '6B']) == True) & \\\n",
    "           (df_viz.destination_taz.isin(['2A', '15', '4C', '1', '6B']) == True)])"
   ]
  },
  {
   "cell_type": "code",
   "execution_count": 147,
   "id": "cc61e7b8",
   "metadata": {},
   "outputs": [
    {
     "data": {
      "text/plain": [
       "0.2903860697677705"
      ]
     },
     "execution_count": 147,
     "metadata": {},
     "output_type": "execute_result"
    }
   ],
   "source": [
    "len(df_viz[(df_viz.origin_taz == '2A') | (df_viz.destination_taz == '2A')])/(1.0*len(df_viz)) #8979830"
   ]
  },
  {
   "cell_type": "markdown",
   "id": "bdb12f5f",
   "metadata": {},
   "source": [
    "# Visualizing the most popular pick up and drop off location pairs."
   ]
  },
  {
   "cell_type": "code",
   "execution_count": 149,
   "id": "55e46edf",
   "metadata": {},
   "outputs": [],
   "source": [
    "df_plt3=df_viz.pivot_table('id',aggfunc='count', index='origin_taz',columns='destination_taz')"
   ]
  },
  {
   "cell_type": "code",
   "execution_count": 151,
   "id": "4455e368",
   "metadata": {},
   "outputs": [
    {
     "data": {
      "text/plain": [
       "(28, 29)"
      ]
     },
     "execution_count": 151,
     "metadata": {},
     "output_type": "execute_result"
    }
   ],
   "source": [
    "df_plt3.shape"
   ]
  },
  {
   "cell_type": "code",
   "execution_count": 152,
   "id": "d90f7452",
   "metadata": {},
   "outputs": [
    {
     "data": {
      "image/png": "[encoded data removed]",
      "text/plain": [
       "<Figure size 648x648 with 1 Axes>"
      ]
     },
     "metadata": {},
     "output_type": "display_data"
    }
   ],
   "source": [
    "fig = plt.figure(figsize=(9,9))\n",
    "\n",
    "cmap = sns.cubehelix_palette(8, start=2, rot=0, dark=0, light=.9, as_cmap=True) #'YlOrRd' #ggplot:'viridis'\n",
    "\n",
    "sns.heatmap(df_plt3, cmap=cmap, linewidths=0.1, cbar=False)\n",
    "\n",
    "plt.title('Total Trips by Pickup and Drof-Off Taxi Zones', fontsize=18, color='navy')\n",
    "plt.xlabel('Destination', fontsize=15, fontname='Tahoma', color='navy')\n",
    "plt.ylabel('Origin', fontsize=15, fontname='Tahoma', color='navy')\n",
    "plt.tick_params(labelsize=11)\n",
    "plt.show()"
   ]
  },
  {
   "cell_type": "markdown",
   "id": "05c8160c",
   "metadata": {},
   "source": [
    "# mean time and distance to destination from the most popular pick up location"
   ]
  },
  {
   "cell_type": "code",
   "execution_count": 155,
   "id": "4797bff9",
   "metadata": {},
   "outputs": [],
   "source": [
    "df_plt4=df_viz[df_viz.origin_taz=='2A'].groupby('destination_taz')['trip_distance'].mean().sort_values()\n",
    "df_plt5=df_viz[df_viz.origin_taz=='2A'].groupby('destination_taz')['duration_min'].mean().sort_values()"
   ]
  },
  {
   "cell_type": "code",
   "execution_count": 156,
   "id": "b5d67ce9",
   "metadata": {},
   "outputs": [
    {
     "data": {
      "image/png": "[encoded data removed]",
      "text/plain": [
       "<Figure size 1152x864 with 2 Axes>"
      ]
     },
     "metadata": {},
     "output_type": "display_data"
    }
   ],
   "source": [
    "fig = plt.figure(figsize = (16,12))\n",
    "kwargs = {'fontsize': 12, 'ha':'center', 'va': 'bottom', 'color': 'navy'}\n",
    "\n",
    "\n",
    "plt.subplot(2,1,1)\n",
    "ax1 = sns.barplot(x=df_plt4.index, y=df_plt4.values)\n",
    "\n",
    "#ax1.set_yticks(range(0, 21, 2))\n",
    "ax1.get_yaxis().set_ticks([])\n",
    "labels_list = df_plt4.values.round(1)\n",
    "annotate_labels(ax1, labels_list, **kwargs)\n",
    "plt.title('Mean Distance to Destination from the Most Popular Pickup Zone: 2A', fontsize=17, color='navy')\n",
    "plt.ylabel('Mean Distance (Miles)', fontsize = 14)\n",
    "plt.xlabel('Drop-off Taxi Zone', fontsize=14)\n",
    "plt.tick_params(labelsize=12)\n",
    "\n",
    "\n",
    "plt.subplot(2,1,2)\n",
    "ax2 = sns.barplot(x=df_plt5.index, y=df_plt5.values)\n",
    "\n",
    "#ax2.set_yticks(range(0, 51, 5))\n",
    "ax2.get_yaxis().set_ticks([])\n",
    "labels_list = df_plt5.apply(lambda x: '{:.0f}'.format(round(x))).values\n",
    "annotate_labels(ax2, labels_list, **kwargs)\n",
    "plt.title('Mean Time to Destination from the Most Popular Pickup Zone: 2A', fontsize=17, color='navy')\n",
    "plt.ylabel('Mean Time (Minutes)', fontsize = 14)\n",
    "plt.ylim(0,55)\n",
    "plt.xlabel('Drop-off Taxi Zone', fontsize=14)\n",
    "plt.tick_params(labelsize=12)\n",
    "\n",
    "\n",
    "fig.subplots_adjust(hspace=.5)\n",
    "plt.show()"
   ]
  },
  {
   "cell_type": "markdown",
   "id": "6dc1bfa0",
   "metadata": {},
   "source": [
    "# Visualization of Variable Distributions and Bivariate Relationships.\n",
    "Distribution of trip distance"
   ]
  },
  {
   "cell_type": "code",
   "execution_count": 157,
   "id": "3e256a43",
   "metadata": {},
   "outputs": [
    {
     "data": {
      "text/plain": [
       "(568.57, 2593.08)"
      ]
     },
     "execution_count": 157,
     "metadata": {},
     "output_type": "execute_result"
    }
   ],
   "source": [
    "df_viz.trip_distance.max(), df_uber.trip_distance.max()"
   ]
  },
  {
   "cell_type": "code",
   "execution_count": 158,
   "id": "58e60114",
   "metadata": {},
   "outputs": [
    {
     "data": {
      "text/plain": [
       "(array([12709212,  8364039,  3566741,  2035261,  1296836,   672674,\n",
       "          705998,   747728,   299927,   132566], dtype=int64),\n",
       " array([ 0. ,  2.5,  5. ,  7.5, 10. , 12.5, 15. , 17.5, 20. , 22.5, 25. ]))"
      ]
     },
     "execution_count": 158,
     "metadata": {},
     "output_type": "execute_result"
    }
   ],
   "source": [
    "freq, bins_dist=np.histogram(df_viz.trip_distance , bins=10, range=(0,25))\n",
    "freq, bins_dist"
   ]
  },
  {
   "cell_type": "code",
   "execution_count": 159,
   "id": "6f82f604",
   "metadata": {},
   "outputs": [
    {
     "name": "stdout",
     "output_type": "stream",
     "text": [
      "0.4162726243132304\n",
      "0.273952505032429\n",
      "0.11682365801401344\n",
      "0.06666215321865507\n",
      "0.042476065787861\n",
      "0.022032504555536406\n",
      "0.023123985989052038\n",
      "0.024490794301997885\n",
      "0.009823693191394893\n",
      "0.004342015595829836\n"
     ]
    }
   ],
   "source": [
    "for val in freq:\n",
    "    print(float(val)/sum(freq))"
   ]
  },
  {
   "cell_type": "code",
   "execution_count": 160,
   "id": "233d0a94",
   "metadata": {},
   "outputs": [
    {
     "data": {
      "text/plain": [
       "(3.09, 3.09)"
      ]
     },
     "execution_count": 160,
     "metadata": {},
     "output_type": "execute_result"
    }
   ],
   "source": [
    "df_viz.trip_distance.median(), df_uber.trip_distance.median()"
   ]
  },
  {
   "cell_type": "code",
   "execution_count": 161,
   "id": "d0f24cbc",
   "metadata": {},
   "outputs": [
    {
     "name": "stdout",
     "output_type": "stream",
     "text": [
      "0.6821384577290933\n",
      "0.3192358898883037\n"
     ]
    }
   ],
   "source": [
    "print(len(df_viz[df_viz.trip_distance <=5])/(1.0*len(df_viz)))\n",
    "print(len(df_viz[df_viz.trip_distance <=2])/(1.0*len(df_viz)))"
   ]
  },
  {
   "cell_type": "code",
   "execution_count": 162,
   "id": "3f13b4df",
   "metadata": {},
   "outputs": [
    {
     "data": {
      "text/html": [
       "<div>\n",
       "<style scoped>\n",
       "    .dataframe tbody tr th:only-of-type {\n",
       "        vertical-align: middle;\n",
       "    }\n",
       "\n",
       "    .dataframe tbody tr th {\n",
       "        vertical-align: top;\n",
       "    }\n",
       "\n",
       "    .dataframe thead th {\n",
       "        text-align: right;\n",
       "    }\n",
       "</style>\n",
       "<table border=\"1\" class=\"dataframe\">\n",
       "  <thead>\n",
       "    <tr style=\"text-align: right;\">\n",
       "      <th></th>\n",
       "      <th>id</th>\n",
       "      <th>origin_taz</th>\n",
       "      <th>destination_taz</th>\n",
       "      <th>trip_distance</th>\n",
       "      <th>pu_date</th>\n",
       "      <th>year</th>\n",
       "      <th>month</th>\n",
       "      <th>day</th>\n",
       "      <th>hour</th>\n",
       "      <th>weekday</th>\n",
       "      <th>duration_min</th>\n",
       "      <th>trip_mph_avg</th>\n",
       "      <th>est_revenue</th>\n",
       "    </tr>\n",
       "  </thead>\n",
       "  <tbody>\n",
       "    <tr>\n",
       "      <th>943214</th>\n",
       "      <td>19594602</td>\n",
       "      <td>10</td>\n",
       "      <td>15</td>\n",
       "      <td>371.5500</td>\n",
       "      <td>2014-09-16</td>\n",
       "      <td>2014</td>\n",
       "      <td>9</td>\n",
       "      <td>16</td>\n",
       "      <td>10</td>\n",
       "      <td>1</td>\n",
       "      <td>474.2833</td>\n",
       "      <td>47.0035</td>\n",
       "      <td>818.7617</td>\n",
       "    </tr>\n",
       "    <tr>\n",
       "      <th>3620586</th>\n",
       "      <td>5138875</td>\n",
       "      <td>14</td>\n",
       "      <td>NaN</td>\n",
       "      <td>357.2700</td>\n",
       "      <td>2014-11-04</td>\n",
       "      <td>2014</td>\n",
       "      <td>11</td>\n",
       "      <td>4</td>\n",
       "      <td>23</td>\n",
       "      <td>1</td>\n",
       "      <td>309.5167</td>\n",
       "      <td>69.2570</td>\n",
       "      <td>736.1033</td>\n",
       "    </tr>\n",
       "    <tr>\n",
       "      <th>10581718</th>\n",
       "      <td>10072444</td>\n",
       "      <td>16</td>\n",
       "      <td>NaN</td>\n",
       "      <td>330.9000</td>\n",
       "      <td>2015-02-04</td>\n",
       "      <td>2015</td>\n",
       "      <td>2</td>\n",
       "      <td>4</td>\n",
       "      <td>18</td>\n",
       "      <td>2</td>\n",
       "      <td>648.5000</td>\n",
       "      <td>30.6153</td>\n",
       "      <td>808.6000</td>\n",
       "    </tr>\n",
       "    <tr>\n",
       "      <th>11224977</th>\n",
       "      <td>17353914</td>\n",
       "      <td>15</td>\n",
       "      <td>15</td>\n",
       "      <td>378.0100</td>\n",
       "      <td>2015-02-25</td>\n",
       "      <td>2015</td>\n",
       "      <td>2</td>\n",
       "      <td>25</td>\n",
       "      <td>15</td>\n",
       "      <td>2</td>\n",
       "      <td>600.7667</td>\n",
       "      <td>37.7528</td>\n",
       "      <td>874.3358</td>\n",
       "    </tr>\n",
       "    <tr>\n",
       "      <th>11684172</th>\n",
       "      <td>23119455</td>\n",
       "      <td>14</td>\n",
       "      <td>14</td>\n",
       "      <td>350.1500</td>\n",
       "      <td>2015-02-03</td>\n",
       "      <td>2015</td>\n",
       "      <td>2</td>\n",
       "      <td>3</td>\n",
       "      <td>18</td>\n",
       "      <td>1</td>\n",
       "      <td>559.3500</td>\n",
       "      <td>37.5597</td>\n",
       "      <td>811.0850</td>\n",
       "    </tr>\n",
       "    <tr>\n",
       "      <th>13829799</th>\n",
       "      <td>16426984</td>\n",
       "      <td>15</td>\n",
       "      <td>NaN</td>\n",
       "      <td>568.5700</td>\n",
       "      <td>2015-03-27</td>\n",
       "      <td>2015</td>\n",
       "      <td>3</td>\n",
       "      <td>27</td>\n",
       "      <td>19</td>\n",
       "      <td>4</td>\n",
       "      <td>652.3167</td>\n",
       "      <td>52.2970</td>\n",
       "      <td>1225.8583</td>\n",
       "    </tr>\n",
       "    <tr>\n",
       "      <th>16530542</th>\n",
       "      <td>15478567</td>\n",
       "      <td>7A</td>\n",
       "      <td>17</td>\n",
       "      <td>315.5700</td>\n",
       "      <td>2015-04-09</td>\n",
       "      <td>2015</td>\n",
       "      <td>4</td>\n",
       "      <td>9</td>\n",
       "      <td>1</td>\n",
       "      <td>3</td>\n",
       "      <td>248.0667</td>\n",
       "      <td>76.3271</td>\n",
       "      <td>641.6208</td>\n",
       "    </tr>\n",
       "    <tr>\n",
       "      <th>18643154</th>\n",
       "      <td>6860856</td>\n",
       "      <td>5C</td>\n",
       "      <td>16</td>\n",
       "      <td>308.4200</td>\n",
       "      <td>2015-05-31</td>\n",
       "      <td>2015</td>\n",
       "      <td>5</td>\n",
       "      <td>31</td>\n",
       "      <td>5</td>\n",
       "      <td>6</td>\n",
       "      <td>304.1833</td>\n",
       "      <td>60.8357</td>\n",
       "      <td>648.7492</td>\n",
       "    </tr>\n",
       "    <tr>\n",
       "      <th>18854980</th>\n",
       "      <td>9245564</td>\n",
       "      <td>15</td>\n",
       "      <td>15</td>\n",
       "      <td>302.7900</td>\n",
       "      <td>2015-05-10</td>\n",
       "      <td>2015</td>\n",
       "      <td>5</td>\n",
       "      <td>10</td>\n",
       "      <td>22</td>\n",
       "      <td>6</td>\n",
       "      <td>441.6667</td>\n",
       "      <td>41.1337</td>\n",
       "      <td>687.0158</td>\n",
       "    </tr>\n",
       "    <tr>\n",
       "      <th>18949729</th>\n",
       "      <td>10208984</td>\n",
       "      <td>4A</td>\n",
       "      <td>7C</td>\n",
       "      <td>335.3000</td>\n",
       "      <td>2015-05-09</td>\n",
       "      <td>2015</td>\n",
       "      <td>5</td>\n",
       "      <td>9</td>\n",
       "      <td>16</td>\n",
       "      <td>5</td>\n",
       "      <td>813.6667</td>\n",
       "      <td>24.7251</td>\n",
       "      <td>874.1083</td>\n",
       "    </tr>\n",
       "  </tbody>\n",
       "</table>\n",
       "</div>"
      ],
      "text/plain": [
       "                id origin_taz destination_taz  trip_distance    pu_date  year  \\\n",
       "943214    19594602         10              15       371.5500 2014-09-16  2014   \n",
       "3620586    5138875         14             NaN       357.2700 2014-11-04  2014   \n",
       "10581718  10072444         16             NaN       330.9000 2015-02-04  2015   \n",
       "11224977  17353914         15              15       378.0100 2015-02-25  2015   \n",
       "11684172  23119455         14              14       350.1500 2015-02-03  2015   \n",
       "13829799  16426984         15             NaN       568.5700 2015-03-27  2015   \n",
       "16530542  15478567         7A              17       315.5700 2015-04-09  2015   \n",
       "18643154   6860856         5C              16       308.4200 2015-05-31  2015   \n",
       "18854980   9245564         15              15       302.7900 2015-05-10  2015   \n",
       "18949729  10208984         4A              7C       335.3000 2015-05-09  2015   \n",
       "\n",
       "          month  day  hour  weekday  duration_min  trip_mph_avg  est_revenue  \n",
       "943214        9   16    10        1      474.2833       47.0035     818.7617  \n",
       "3620586      11    4    23        1      309.5167       69.2570     736.1033  \n",
       "10581718      2    4    18        2      648.5000       30.6153     808.6000  \n",
       "11224977      2   25    15        2      600.7667       37.7528     874.3358  \n",
       "11684172      2    3    18        1      559.3500       37.5597     811.0850  \n",
       "13829799      3   27    19        4      652.3167       52.2970    1225.8583  \n",
       "16530542      4    9     1        3      248.0667       76.3271     641.6208  \n",
       "18643154      5   31     5        6      304.1833       60.8357     648.7492  \n",
       "18854980      5   10    22        6      441.6667       41.1337     687.0158  \n",
       "18949729      5    9    16        5      813.6667       24.7251     874.1083  "
      ]
     },
     "execution_count": 162,
     "metadata": {},
     "output_type": "execute_result"
    }
   ],
   "source": [
    "df_viz[df_viz.trip_distance >=300].head(10)"
   ]
  },
  {
   "cell_type": "markdown",
   "id": "a0d8478e",
   "metadata": {},
   "source": [
    "# Distribution of trip duration (in minutes)"
   ]
  },
  {
   "cell_type": "code",
   "execution_count": 163,
   "id": "51be0ab8",
   "metadata": {},
   "outputs": [
    {
     "data": {
      "text/plain": [
       "count   30923763.0000\n",
       "mean          20.9923\n",
       "std           16.0846\n",
       "min            0.0000\n",
       "25%           10.8500\n",
       "50%           17.2333\n",
       "75%           26.6833\n",
       "max          959.3000\n",
       "Name: duration_min, dtype: float64"
      ]
     },
     "execution_count": 163,
     "metadata": {},
     "output_type": "execute_result"
    }
   ],
   "source": [
    "df_viz.duration_min.describe()"
   ]
  },
  {
   "cell_type": "code",
   "execution_count": 167,
   "id": "5b49fe9e",
   "metadata": {},
   "outputs": [
    {
     "data": {
      "text/plain": [
       "(array([1235100, 5391133, 6311894, 5266617, 3929001, 2777037, 1878313,\n",
       "        1256118,  852522,  589907], dtype=int64),\n",
       " array([ 0.,  5., 10., 15., 20., 25., 30., 35., 40., 45., 50.]))"
      ]
     },
     "execution_count": 167,
     "metadata": {},
     "output_type": "execute_result"
    }
   ],
   "source": [
    "freq, bins_dur= np.histogram(df_viz.duration_min, bins=10, range=(0,50))\n",
    "freq, bins_dur"
   ]
  },
  {
   "cell_type": "markdown",
   "id": "1d67b79c",
   "metadata": {},
   "source": [
    "# Plot of the histograms for trip distance and duration"
   ]
  },
  {
   "cell_type": "code",
   "execution_count": 173,
   "id": "346b8123",
   "metadata": {},
   "outputs": [
    {
     "data": {
      "image/png": "[encoded data removed]",
      "text/plain": [
       "<Figure size 1152x504 with 2 Axes>"
      ]
     },
     "metadata": {},
     "output_type": "display_data"
    }
   ],
   "source": [
    "fig = plt.figure(figsize=(16, 7))\n",
    "\n",
    "formatter = FuncFormatter(million_format)\n",
    "\n",
    "plt.subplot(1,2,1)\n",
    "ax1 = df_viz.trip_distance.dropna().hist(bins=bins_dist)\n",
    "ax1.yaxis.set_major_formatter(formatter)\n",
    "\n",
    "plt.xlabel('Distance (miles)', fontsize=14, weight='bold')\n",
    "plt.ylabel('Counts', fontsize=14, weight='bold')\n",
    "plt.tick_params(labelsize=14)\n",
    "plt.title('Distribution of Trip Distance', color='navy', fontsize=16)\n",
    "\n",
    "\n",
    "plt.subplot(1,2,2)\n",
    "ax2 = df_viz.duration_min.hist(bins=bins_dur)\n",
    "ax2.yaxis.set_major_formatter(formatter)\n",
    "ax2.set_xticks(bins_dur) #bins are in 5 minutes intervals.\n",
    "\n",
    "plt.xlabel('Duration (minutes)', fontsize=14, weight='bold')\n",
    "plt.ylabel('')\n",
    "plt.tick_params(labelsize=14)\n",
    "plt.title('Distribution of Trip Duration', color='navy', fontsize=16)\n",
    "\n",
    "plt.show()"
   ]
  },
  {
   "cell_type": "markdown",
   "id": "5c3dbdd3",
   "metadata": {},
   "source": [
    "# Trip Distance versus Trip Duration"
   ]
  },
  {
   "cell_type": "code",
   "execution_count": 174,
   "id": "8fcafde8",
   "metadata": {},
   "outputs": [
    {
     "name": "stderr",
     "output_type": "stream",
     "text": [
      "C:\\Users\\AVU1V9~1\\AppData\\Local\\Temp/ipykernel_8692/1883332545.py:1: FutureWarning: Indexing with multiple keys (implicitly converted to a tuple of keys) will be deprecated, use a list instead.\n",
      "  df_plt6=df_viz.groupby(['origin_taz','destination_taz'])['trip_distance','duration_min'].mean()\n"
     ]
    },
    {
     "data": {
      "text/plain": [
       "array([[ 1.4180704 , 10.56080168],\n",
       "       [ 3.65081289, 17.97784922],\n",
       "       [ 5.09364295, 22.49040273],\n",
       "       ...,\n",
       "       [19.84848465, 44.5050345 ],\n",
       "       [12.19842835, 29.74001046],\n",
       "       [ 2.52056516,  9.87329898]])"
      ]
     },
     "execution_count": 174,
     "metadata": {},
     "output_type": "execute_result"
    }
   ],
   "source": [
    "df_plt6=df_viz.groupby(['origin_taz','destination_taz'])['trip_distance','duration_min'].mean()\n",
    "df_plt6.values"
   ]
  },
  {
   "cell_type": "code",
   "execution_count": 176,
   "id": "9bcdfd00",
   "metadata": {},
   "outputs": [
    {
     "data": {
      "text/plain": [
       "(812, 2)"
      ]
     },
     "execution_count": 176,
     "metadata": {},
     "output_type": "execute_result"
    }
   ],
   "source": [
    "df_plt6.shape"
   ]
  },
  {
   "cell_type": "code",
   "execution_count": 189,
   "id": "1d303617",
   "metadata": {},
   "outputs": [
    {
     "data": {
      "image/png": "[encoded data removed]",
      "text/plain": [
       "<Figure size 1008x504 with 1 Axes>"
      ]
     },
     "metadata": {},
     "output_type": "display_data"
    }
   ],
   "source": [
    "distance=df_plt6.values[:,:1]\n",
    "duration=df_plt6.values[:,1:]\n",
    "duration_hat= pd.Series(distance.reshape(812,)).apply(lambda x:10*np.sqrt(x))\n",
    "\n",
    "plt.figure(figsize=(14,7))\n",
    "cmap=sns.dark_palette('cyan',3,reverse=True,as_cmap=True)\n",
    "\n",
    "plt.scatter(distance,duration, c=distance, cmap=cmap)\n",
    "plt.scatter(distance,duration_hat,color='red',s=8)\n",
    "\n",
    "font={'color':'red','size':14,'family':'Tahoma'}\n",
    "plt.text(31,40,'y=10*sqrt(x)',fontdict=font)\n",
    "plt.xlim(0,40)\n",
    "plt.xlabel('Distance', fontsize = 14, weight='bold')\n",
    "plt.ylabel('Duration (Minutes)', fontsize = 14, weight='bold')\n",
    "plt.tick_params(labelsize=14)\n",
    "plt.title('Average Trip Duration and Distance per Origin-Destination Pair', fontsize = 16, color='navy')\n",
    "plt.show()"
   ]
  },
  {
   "cell_type": "code",
   "execution_count": 191,
   "id": "29ebac93",
   "metadata": {},
   "outputs": [
    {
     "data": {
      "text/html": [
       "<div>\n",
       "<style scoped>\n",
       "    .dataframe tbody tr th:only-of-type {\n",
       "        vertical-align: middle;\n",
       "    }\n",
       "\n",
       "    .dataframe tbody tr th {\n",
       "        vertical-align: top;\n",
       "    }\n",
       "\n",
       "    .dataframe thead th {\n",
       "        text-align: right;\n",
       "    }\n",
       "</style>\n",
       "<table border=\"1\" class=\"dataframe\">\n",
       "  <thead>\n",
       "    <tr style=\"text-align: right;\">\n",
       "      <th></th>\n",
       "      <th></th>\n",
       "      <th>trip_distance</th>\n",
       "      <th>duration_min</th>\n",
       "    </tr>\n",
       "    <tr>\n",
       "      <th>origin_taz</th>\n",
       "      <th>destination_taz</th>\n",
       "      <th></th>\n",
       "      <th></th>\n",
       "    </tr>\n",
       "  </thead>\n",
       "  <tbody>\n",
       "    <tr>\n",
       "      <th>13</th>\n",
       "      <th>18</th>\n",
       "      <td>28.0717</td>\n",
       "      <td>53.1685</td>\n",
       "    </tr>\n",
       "    <tr>\n",
       "      <th rowspan=\"2\" valign=\"top\">14</th>\n",
       "      <th>17</th>\n",
       "      <td>27.8808</td>\n",
       "      <td>57.4252</td>\n",
       "    </tr>\n",
       "    <tr>\n",
       "      <th>18</th>\n",
       "      <td>29.9431</td>\n",
       "      <td>62.5171</td>\n",
       "    </tr>\n",
       "    <tr>\n",
       "      <th rowspan=\"2\" valign=\"top\">16</th>\n",
       "      <th>17</th>\n",
       "      <td>31.0922</td>\n",
       "      <td>62.5046</td>\n",
       "    </tr>\n",
       "    <tr>\n",
       "      <th>18</th>\n",
       "      <td>28.3292</td>\n",
       "      <td>45.5679</td>\n",
       "    </tr>\n",
       "    <tr>\n",
       "      <th rowspan=\"4\" valign=\"top\">17</th>\n",
       "      <th>14</th>\n",
       "      <td>27.4876</td>\n",
       "      <td>57.8793</td>\n",
       "    </tr>\n",
       "    <tr>\n",
       "      <th>16</th>\n",
       "      <td>39.4353</td>\n",
       "      <td>81.2769</td>\n",
       "    </tr>\n",
       "    <tr>\n",
       "      <th>7C</th>\n",
       "      <td>25.2298</td>\n",
       "      <td>57.2576</td>\n",
       "    </tr>\n",
       "    <tr>\n",
       "      <th>9</th>\n",
       "      <td>25.5005</td>\n",
       "      <td>46.6947</td>\n",
       "    </tr>\n",
       "    <tr>\n",
       "      <th>7A</th>\n",
       "      <th>17</th>\n",
       "      <td>29.5695</td>\n",
       "      <td>59.6055</td>\n",
       "    </tr>\n",
       "    <tr>\n",
       "      <th>7C</th>\n",
       "      <th>17</th>\n",
       "      <td>26.9832</td>\n",
       "      <td>58.3610</td>\n",
       "    </tr>\n",
       "    <tr>\n",
       "      <th rowspan=\"2\" valign=\"top\">8</th>\n",
       "      <th>17</th>\n",
       "      <td>25.7619</td>\n",
       "      <td>55.7408</td>\n",
       "    </tr>\n",
       "    <tr>\n",
       "      <th>18</th>\n",
       "      <td>29.5376</td>\n",
       "      <td>59.4060</td>\n",
       "    </tr>\n",
       "    <tr>\n",
       "      <th rowspan=\"2\" valign=\"top\">9</th>\n",
       "      <th>17</th>\n",
       "      <td>27.4381</td>\n",
       "      <td>49.9894</td>\n",
       "    </tr>\n",
       "    <tr>\n",
       "      <th>18</th>\n",
       "      <td>36.9205</td>\n",
       "      <td>65.9577</td>\n",
       "    </tr>\n",
       "  </tbody>\n",
       "</table>\n",
       "</div>"
      ],
      "text/plain": [
       "                            trip_distance  duration_min\n",
       "origin_taz destination_taz                             \n",
       "13         18                     28.0717       53.1685\n",
       "14         17                     27.8808       57.4252\n",
       "           18                     29.9431       62.5171\n",
       "16         17                     31.0922       62.5046\n",
       "           18                     28.3292       45.5679\n",
       "17         14                     27.4876       57.8793\n",
       "           16                     39.4353       81.2769\n",
       "           7C                     25.2298       57.2576\n",
       "           9                      25.5005       46.6947\n",
       "7A         17                     29.5695       59.6055\n",
       "7C         17                     26.9832       58.3610\n",
       "8          17                     25.7619       55.7408\n",
       "           18                     29.5376       59.4060\n",
       "9          17                     27.4381       49.9894\n",
       "           18                     36.9205       65.9577"
      ]
     },
     "execution_count": 191,
     "metadata": {},
     "output_type": "execute_result"
    }
   ],
   "source": [
    "df_plt6[df_plt6.trip_distance > 25] #origin and destination pairs whose distance between them is greater than 25 miles"
   ]
  },
  {
   "cell_type": "markdown",
   "id": "1af2db29",
   "metadata": {},
   "source": [
    "# Distribution of the average speed per trip"
   ]
  },
  {
   "cell_type": "code",
   "execution_count": 196,
   "id": "9b42307f",
   "metadata": {},
   "outputs": [
    {
     "data": {
      "text/plain": [
       "count   30898897.0000\n",
       "mean          13.5071\n",
       "std           11.7569\n",
       "min            0.0000\n",
       "25%            8.4098\n",
       "50%           11.4488\n",
       "75%           16.2667\n",
       "max        22548.0000\n",
       "Name: trip_mph_avg, dtype: float64"
      ]
     },
     "execution_count": 196,
     "metadata": {},
     "output_type": "execute_result"
    }
   ],
   "source": [
    "df_viz.trip_mph_avg.describe()"
   ]
  },
  {
   "cell_type": "code",
   "execution_count": 197,
   "id": "f1141751",
   "metadata": {},
   "outputs": [
    {
     "data": {
      "text/plain": [
       "(array([ 1313433, 10564782,  9861693,  4248216,  2152654,  1281911,\n",
       "          767746,   434298,   196149,    61858], dtype=int64),\n",
       " array([ 0.,  5., 10., 15., 20., 25., 30., 35., 40., 45., 50.]))"
      ]
     },
     "execution_count": 197,
     "metadata": {},
     "output_type": "execute_result"
    }
   ],
   "source": [
    "freq, bins=np.histogram(df_viz.trip_mph_avg, bins=10, range=(0,50))\n",
    "freq, bins"
   ]
  },
  {
   "cell_type": "code",
   "execution_count": 202,
   "id": "a53430dc",
   "metadata": {},
   "outputs": [
    {
     "data": {
      "image/png": "[encoded data removed]",
      "text/plain": [
       "<Figure size 432x288 with 1 Axes>"
      ]
     },
     "metadata": {},
     "output_type": "display_data"
    }
   ],
   "source": [
    "fig, ax = plt.subplots(1,1)\n",
    "\n",
    "formatter = FuncFormatter(million_format)\n",
    "\n",
    "ax.hist(df_viz.trip_mph_avg.dropna(), bins)\n",
    "ax.yaxis.set_major_formatter(formatter)\n",
    "\n",
    "plt.xlabel('Average Speed (mph)', fontsize=14, weight='bold')\n",
    "plt.ylabel('Counts', fontsize=14, weight='bold')\n",
    "plt.tick_params(labelsize=14)\n",
    "plt.title('Distribution of Average Speed', color='navy', fontsize=16)\n",
    "plt.show()"
   ]
  },
  {
   "cell_type": "code",
   "execution_count": 204,
   "id": "e24951eb",
   "metadata": {},
   "outputs": [
    {
     "data": {
      "text/plain": [
       "hour\n",
       "0   14.3002\n",
       "1   15.3747\n",
       "2   16.1274\n",
       "3   16.6125\n",
       "4   19.5019\n",
       "Name: trip_mph_avg, dtype: float64"
      ]
     },
     "execution_count": 204,
     "metadata": {},
     "output_type": "execute_result"
    }
   ],
   "source": [
    "df_plt7=df_viz[df_viz.weekday<5].groupby('hour')['trip_mph_avg'].median()\n",
    "df_plt7.head()"
   ]
  },
  {
   "cell_type": "code",
   "execution_count": 209,
   "id": "a7b07331",
   "metadata": {},
   "outputs": [
    {
     "data": {
      "image/png": "[encoded data removed]",
      "text/plain": [
       "<Figure size 1008x432 with 1 Axes>"
      ]
     },
     "metadata": {},
     "output_type": "display_data"
    }
   ],
   "source": [
    "plt.figure(figsize =(14, 6))\n",
    "kwargs = {'fontsize': 12, 'ha':'center', 'va': 'top', 'color': 'navy', 'weight': 'bold'}\n",
    "\n",
    "\n",
    "ax = df_plt7.plot(marker = 'o', color = 'navy')\n",
    "\n",
    "for x, y in zip(df_plt7.index, df_plt7.values):\n",
    "    ax.annotate('{:.0f}'.format(y), xy=(x, y), xytext= (0, 24), textcoords='offset points', **kwargs)\n",
    "\n",
    "\n",
    "ax.get_yaxis().set_ticks([]) #hide tick labels on y-axis\n",
    "plt.fill([7,9,9,7], [0,0,30,30], 'cyan', alpha=0.2)\n",
    "plt.fill([16,18,18,16], [0,0,30,30], 'cyan', alpha=0.2)\n",
    "plt.xticks(range(24))\n",
    "plt.xlabel('Hour', fontsize=14)\n",
    "plt.ylabel('Trip Average Speed', fontsize=14)\n",
    "plt.ylim(5, 30)\n",
    "plt.xlim(-0.5, 23.5)\n",
    "plt.tick_params(labelsize=14)\n",
    "plt.title('Weekday Average Speed per Hour of the Day - Highlight for Peak Traffic', fontsize = 16, color='navy')\n",
    "plt.show()"
   ]
  },
  {
   "cell_type": "code",
   "execution_count": 210,
   "id": "c6f248a5",
   "metadata": {},
   "outputs": [],
   "source": [
    "def is_peak_hour(x):\n",
    "    return 1 if x[0] in (7,8,9,16,17,18) and x[1] < 5 else 0"
   ]
  },
  {
   "cell_type": "code",
   "execution_count": 211,
   "id": "70a8273b",
   "metadata": {},
   "outputs": [],
   "source": [
    "df_viz['peak_hour']=pd.Series(map(lambda x:is_peak_hour(x),df_viz.loc[:,['hour','weekday']].values))"
   ]
  },
  {
   "cell_type": "code",
   "execution_count": 212,
   "id": "80ff1ebb",
   "metadata": {},
   "outputs": [
    {
     "data": {
      "text/html": [
       "<div>\n",
       "<style scoped>\n",
       "    .dataframe tbody tr th:only-of-type {\n",
       "        vertical-align: middle;\n",
       "    }\n",
       "\n",
       "    .dataframe tbody tr th {\n",
       "        vertical-align: top;\n",
       "    }\n",
       "\n",
       "    .dataframe thead th {\n",
       "        text-align: right;\n",
       "    }\n",
       "</style>\n",
       "<table border=\"1\" class=\"dataframe\">\n",
       "  <thead>\n",
       "    <tr style=\"text-align: right;\">\n",
       "      <th></th>\n",
       "      <th>id</th>\n",
       "      <th>origin_taz</th>\n",
       "      <th>destination_taz</th>\n",
       "      <th>trip_distance</th>\n",
       "      <th>pu_date</th>\n",
       "      <th>year</th>\n",
       "      <th>month</th>\n",
       "      <th>day</th>\n",
       "      <th>hour</th>\n",
       "      <th>weekday</th>\n",
       "      <th>duration_min</th>\n",
       "      <th>trip_mph_avg</th>\n",
       "      <th>est_revenue</th>\n",
       "      <th>peak_hour</th>\n",
       "    </tr>\n",
       "  </thead>\n",
       "  <tbody>\n",
       "    <tr>\n",
       "      <th>0</th>\n",
       "      <td>252581</td>\n",
       "      <td>7C</td>\n",
       "      <td>6A</td>\n",
       "      <td>4.2500</td>\n",
       "      <td>2014-09-01</td>\n",
       "      <td>2014</td>\n",
       "      <td>9</td>\n",
       "      <td>1</td>\n",
       "      <td>9</td>\n",
       "      <td>0</td>\n",
       "      <td>15.1833</td>\n",
       "      <td>16.7947</td>\n",
       "      <td>15.3017</td>\n",
       "      <td>1.0000</td>\n",
       "    </tr>\n",
       "    <tr>\n",
       "      <th>1</th>\n",
       "      <td>252582</td>\n",
       "      <td>7B</td>\n",
       "      <td>15</td>\n",
       "      <td>10.1700</td>\n",
       "      <td>2014-09-01</td>\n",
       "      <td>2014</td>\n",
       "      <td>9</td>\n",
       "      <td>1</td>\n",
       "      <td>18</td>\n",
       "      <td>0</td>\n",
       "      <td>34.0833</td>\n",
       "      <td>17.9032</td>\n",
       "      <td>32.2767</td>\n",
       "      <td>1.0000</td>\n",
       "    </tr>\n",
       "    <tr>\n",
       "      <th>2</th>\n",
       "      <td>252583</td>\n",
       "      <td>11</td>\n",
       "      <td>2A</td>\n",
       "      <td>4.0200</td>\n",
       "      <td>2014-09-01</td>\n",
       "      <td>2014</td>\n",
       "      <td>9</td>\n",
       "      <td>1</td>\n",
       "      <td>17</td>\n",
       "      <td>0</td>\n",
       "      <td>17.1000</td>\n",
       "      <td>14.1053</td>\n",
       "      <td>15.5700</td>\n",
       "      <td>1.0000</td>\n",
       "    </tr>\n",
       "    <tr>\n",
       "      <th>3</th>\n",
       "      <td>252584</td>\n",
       "      <td>3B</td>\n",
       "      <td>4A</td>\n",
       "      <td>1.4600</td>\n",
       "      <td>2014-09-01</td>\n",
       "      <td>2014</td>\n",
       "      <td>9</td>\n",
       "      <td>1</td>\n",
       "      <td>13</td>\n",
       "      <td>0</td>\n",
       "      <td>6.5333</td>\n",
       "      <td>13.4082</td>\n",
       "      <td>8.0000</td>\n",
       "      <td>0.0000</td>\n",
       "    </tr>\n",
       "    <tr>\n",
       "      <th>4</th>\n",
       "      <td>252585</td>\n",
       "      <td>2A</td>\n",
       "      <td>10</td>\n",
       "      <td>8.3100</td>\n",
       "      <td>2014-09-01</td>\n",
       "      <td>2014</td>\n",
       "      <td>9</td>\n",
       "      <td>1</td>\n",
       "      <td>14</td>\n",
       "      <td>0</td>\n",
       "      <td>26.2833</td>\n",
       "      <td>18.9702</td>\n",
       "      <td>26.2917</td>\n",
       "      <td>0.0000</td>\n",
       "    </tr>\n",
       "  </tbody>\n",
       "</table>\n",
       "</div>"
      ],
      "text/plain": [
       "       id origin_taz destination_taz  trip_distance    pu_date  year  month  \\\n",
       "0  252581         7C              6A         4.2500 2014-09-01  2014      9   \n",
       "1  252582         7B              15        10.1700 2014-09-01  2014      9   \n",
       "2  252583         11              2A         4.0200 2014-09-01  2014      9   \n",
       "3  252584         3B              4A         1.4600 2014-09-01  2014      9   \n",
       "4  252585         2A              10         8.3100 2014-09-01  2014      9   \n",
       "\n",
       "   day  hour  weekday  duration_min  trip_mph_avg  est_revenue  peak_hour  \n",
       "0    1     9        0       15.1833       16.7947      15.3017     1.0000  \n",
       "1    1    18        0       34.0833       17.9032      32.2767     1.0000  \n",
       "2    1    17        0       17.1000       14.1053      15.5700     1.0000  \n",
       "3    1    13        0        6.5333       13.4082       8.0000     0.0000  \n",
       "4    1    14        0       26.2833       18.9702      26.2917     0.0000  "
      ]
     },
     "execution_count": 212,
     "metadata": {},
     "output_type": "execute_result"
    }
   ],
   "source": [
    "df_viz.head()"
   ]
  },
  {
   "cell_type": "code",
   "execution_count": 215,
   "id": "6735ef49",
   "metadata": {},
   "outputs": [
    {
     "name": "stderr",
     "output_type": "stream",
     "text": [
      "C:\\ProgramData\\Anaconda3\\lib\\site-packages\\seaborn\\_decorators.py:36: FutureWarning: Pass the following variable as a keyword arg: x. From version 0.12, the only valid positional argument will be `data`, and passing other arguments without an explicit keyword will result in an error or misinterpretation.\n",
      "  warnings.warn(\n",
      "C:\\Users\\AVU1V9~1\\AppData\\Local\\Temp/ipykernel_8692/1454691650.py:9: UserWarning: You have mixed positional and keyword arguments, some input may be discarded.\n",
      "  plt.legend(handles, labels=['Peak', 'Off Peak'], loc='best', fontsize=13)\n"
     ]
    },
    {
     "data": {
      "image/png": "[encoded data removed]",
      "text/plain": [
       "<Figure size 1008x432 with 1 Axes>"
      ]
     },
     "metadata": {},
     "output_type": "display_data"
    }
   ],
   "source": [
    "plt.figure(figsize=(14,6))\n",
    "formatter=FuncFormatter(million_format)\n",
    "\n",
    "ax=sns.countplot(df_viz['month'],hue=df_viz['peak_hour'])\n",
    "ax.set_xticklabels(month_labels)\n",
    "ax.yaxis.set_major_formatter(formatter)\n",
    "\n",
    "handles, labels = ax.get_legend_handles_labels() #will cause the warning msg that can be ignored \n",
    "plt.legend(handles, labels=['Peak', 'Off Peak'], loc='best', fontsize=13)\n",
    "plt.tick_params(labelsize=13)\n",
    "plt.xlabel('Month (2014 - 2015)', fontsize = 15, weight='bold')\n",
    "plt.ylabel('Total Trips', fontsize = 15, weight='bold')\n",
    "plt.title('Demand of Rides per Month - Peak versus Off-Peak Hours', fontsize = 17, color='navy')\n",
    "plt.show()"
   ]
  },
  {
   "cell_type": "code",
   "execution_count": 218,
   "id": "d5323cbd",
   "metadata": {},
   "outputs": [],
   "source": [
    "#To show all the dataframes in the environment:\n",
    "%psearch df* "
   ]
  },
  {
   "cell_type": "code",
   "execution_count": null,
   "id": "a0b236e0",
   "metadata": {},
   "outputs": [],
   "source": []
  }
 ],
 "metadata": {
  "kernelspec": {
   "display_name": "Python 3 (ipykernel)",
   "language": "python",
   "name": "python3"
  },
  "language_info": {
   "codemirror_mode": {
    "name": "ipython",
    "version": 3
   },
   "file_extension": ".py",
   "mimetype": "text/x-python",
   "name": "python",
   "nbconvert_exporter": "python",
   "pygments_lexer": "ipython3",
   "version": "3.9.7"
  }
 },
 "nbformat": 4,
 "nbformat_minor": 5
}
